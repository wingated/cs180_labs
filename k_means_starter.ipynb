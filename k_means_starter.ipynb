{
  "nbformat": 4,
  "nbformat_minor": 0,
  "metadata": {
    "colab": {
      "name": "k_means_starter.ipynb",
      "provenance": [],
      "authorship_tag": "ABX9TyP3WmFT/Gp0j4jNN/HpXBa/",
      "include_colab_link": true
    },
    "kernelspec": {
      "name": "python3",
      "display_name": "Python 3"
    },
    "language_info": {
      "name": "python"
    }
  },
  "cells": [
    {
      "cell_type": "markdown",
      "metadata": {
        "id": "view-in-github",
        "colab_type": "text"
      },
      "source": [
        "<a href=\"https://colab.research.google.com/github/wingated/cs180_labs/blob/main/k_means_starter.ipynb\" target=\"_parent\"><img src=\"https://colab.research.google.com/assets/colab-badge.svg\" alt=\"Open In Colab\"/></a>"
      ]
    },
    {
      "cell_type": "code",
      "metadata": {
        "id": "IBpMsereYic3"
      },
      "source": [
        "%matplotlib inline"
      ],
      "execution_count": 1,
      "outputs": []
    },
    {
      "cell_type": "code",
      "metadata": {
        "id": "bLRplV1_Yjlo"
      },
      "source": [
        "import matplotlib.pyplot as plt\n",
        "import numpy as np\n",
        "import pandas as pd\n",
        "import seaborn as sns\n",
        "from tqdm import tqdm\n",
        "\n",
        "plt.rcParams['figure.figsize'] = [10,8]"
      ],
      "execution_count": 2,
      "outputs": []
    },
    {
      "cell_type": "code",
      "metadata": {
        "id": "8Y1kZzWFYlJQ"
      },
      "source": [
        "CNT = 100\n",
        "data1 = 0.5*np.random.randn(CNT,2)\n",
        "data2 = 0.5*np.random.randn(CNT,2) + np.atleast_2d([2,2])\n",
        "data = np.vstack([data1,data2])"
      ],
      "execution_count": 6,
      "outputs": []
    },
    {
      "cell_type": "markdown",
      "metadata": {
        "id": "XblW35JBY_W6"
      },
      "source": [
        "# TODO\n",
        "I want you to code up K-means in your group.  Here's the high level outline:\n",
        "\n",
        "*   Initialize centroids randomly\n",
        "\n",
        "*   Repeat until done:\n",
        "  *   Calculate distances from every point to every centroid\n",
        "  *   Label each point with the nearest centroid\n",
        "  *   Recalculate centroid values\n",
        "\n",
        "*   Optional (but highly recommended): plot the data, colored by centroid; plot the centroids\n",
        "\n",
        "Here's the visualization we saw in class:\n",
        "\n",
        "https://stanford.edu/class/engr108/visualizations/kmeans/kmeans.html\n"
      ]
    },
    {
      "cell_type": "code",
      "metadata": {
        "id": "vj9_v1aQZqt9"
      },
      "source": [
        ""
      ],
      "execution_count": null,
      "outputs": []
    }
  ]
}