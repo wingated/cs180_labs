{
  "nbformat": 4,
  "nbformat_minor": 0,
  "metadata": {
    "colab": {
      "name": "cities.ipynb",
      "provenance": [],
      "collapsed_sections": []
    },
    "kernelspec": {
      "name": "python3",
      "display_name": "Python 3"
    }
  },
  "cells": [
    {
      "cell_type": "code",
      "metadata": {
        "colab": {
          "base_uri": "https://localhost:8080/"
        },
        "id": "nrmpu-E9zErZ",
        "outputId": "8a8837d0-e191-4a54-be3d-7bd5e743665b"
      },
      "source": [
        "# run wget to download data\n",
        "!wget http://liftothers.org/byu/worldcities.csv"
      ],
      "execution_count": 2,
      "outputs": [
        {
          "output_type": "stream",
          "text": [
            "--2021-01-25 16:53:26--  http://liftothers.org/byu/worldcities.csv\n",
            "Resolving liftothers.org (liftothers.org)... 50.62.229.1\n",
            "Connecting to liftothers.org (liftothers.org)|50.62.229.1|:80... connected.\n",
            "HTTP request sent, awaiting response... 200 OK\n",
            "Length: 2859311 (2.7M) [text/csv]\n",
            "Saving to: ‘worldcities.csv’\n",
            "\n",
            "worldcities.csv     100%[===================>]   2.73M  5.61MB/s    in 0.5s    \n",
            "\n",
            "2021-01-25 16:53:27 (5.61 MB/s) - ‘worldcities.csv’ saved [2859311/2859311]\n",
            "\n"
          ],
          "name": "stdout"
        }
      ]
    },
    {
      "cell_type": "code",
      "metadata": {
        "id": "90zoAqtwzIAz"
      },
      "source": [
        "%matplotlib inline"
      ],
      "execution_count": 3,
      "outputs": []
    },
    {
      "cell_type": "code",
      "metadata": {
        "id": "e0RvBLzWzO72"
      },
      "source": [
        "import matplotlib.pyplot as plt\n",
        "plt.rcParams['figure.figsize'] = [12, 8]"
      ],
      "execution_count": 4,
      "outputs": []
    },
    {
      "cell_type": "code",
      "metadata": {
        "colab": {
          "base_uri": "https://localhost:8080/"
        },
        "id": "LUovFVRLzPrs",
        "outputId": "ad2d060a-8434-4eb1-9753-8a0a2fe74a69"
      },
      "source": [
        "lines = open(\"./worldcities.csv\",\"r\").readlines()\n",
        "print(len(lines))"
      ],
      "execution_count": 5,
      "outputs": [
        {
          "output_type": "stream",
          "text": [
            "26570\n"
          ],
          "name": "stdout"
        }
      ]
    },
    {
      "cell_type": "code",
      "metadata": {
        "id": "sYkvkCkAzTW3"
      },
      "source": [
        "lats = []\n",
        "lngs = []\n",
        "pops = []\n",
        "for l in lines[1:]:\n",
        "    parts = l.split(\",\")\n",
        "    if len(parts) != 11:\n",
        "        #print(\"error on line\")\n",
        "        continue\n",
        "    lats.append( float( parts[2].replace( '\"', \"\") ) )\n",
        "    lngs.append( float( parts[3].replace( '\"', \"\") ) )\n",
        "    tmp = parts[9].replace( '\"', \"\")\n",
        "    if len(tmp) == 0:\n",
        "      val = 0\n",
        "    else:\n",
        "      val = float(tmp)\n",
        "    pops.append( val )\n",
        "\n"
      ],
      "execution_count": 8,
      "outputs": []
    },
    {
      "cell_type": "code",
      "metadata": {
        "id": "WmbfCQVWzcQn",
        "outputId": "225b6ae6-1364-49de-b272-3b5b8b5025ca",
        "colab": {
          "base_uri": "https://localhost:8080/",
          "height": 511
        }
      },
      "source": [
        "plt.plot( pops )"
      ],
      "execution_count": 9,
      "outputs": [
        {
          "output_type": "execute_result",
          "data": {
            "text/plain": [
              "[<matplotlib.lines.Line2D at 0x7f10addbdba8>]"
            ]
          },
          "metadata": {
            "tags": []
          },
          "execution_count": 9
        },
        {
          "output_type": "display_data",
          "data": {
            "image/png": "[encoded data removed]",
            "text/plain": [
              "<Figure size 864x576 with 1 Axes>"
            ]
          },
          "metadata": {
            "tags": [],
            "needs_background": "light"
          }
        }
      ]
    },
    {
      "cell_type": "code",
      "metadata": {
        "id": "uAoQg8K4d0Uy"
      },
      "source": [
        "plt.scatter( lngs, lats, s=pops )"
      ],
      "execution_count": null,
      "outputs": []
    }
  ]
}