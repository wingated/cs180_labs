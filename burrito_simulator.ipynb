{
  "nbformat": 4,
  "nbformat_minor": 0,
  "metadata": {
    "colab": {
      "name": "burrito_simulator.ipynb",
      "provenance": [],
      "authorship_tag": "ABX9TyNj1jVSTMiOxOHgctKAaUHD",
      "include_colab_link": true
    },
    "kernelspec": {
      "name": "python3",
      "display_name": "Python 3"
    }
  },
  "cells": [
    {
      "cell_type": "markdown",
      "metadata": {
        "id": "view-in-github",
        "colab_type": "text"
      },
      "source": [
        "<a href=\"https://colab.research.google.com/github/wingated/cs180_labs/blob/main/burrito_simulator.ipynb\" target=\"_parent\"><img src=\"https://colab.research.google.com/assets/colab-badge.svg\" alt=\"Open In Colab\"/></a>"
      ]
    },
    {
      "cell_type": "code",
      "metadata": {
        "id": "JzpmpaSaBg7K"
      },
      "source": [
        "%matplotlib inline"
      ],
      "execution_count": 1,
      "outputs": []
    },
    {
      "cell_type": "code",
      "metadata": {
        "id": "sCTT_fR_BiLN"
      },
      "source": [
        "import matplotlib.pyplot as plt\n",
        "import numpy as np\n",
        "import seaborn as sns\n",
        "import pandas as pd\n",
        "from tqdm import tqdm\n",
        "plt.rcParams['figure.figsize'] = [12, 10]\n"
      ],
      "execution_count": 61,
      "outputs": []
    },
    {
      "cell_type": "code",
      "metadata": {
        "id": "BfN7pHquBp8n"
      },
      "source": [
        "def sample_burrito_type():\n",
        "  btypes = ['beef','chicken','barbacoa','veggie','asada']\n",
        "  bprobs = [ 0.2,  0.15,     0.3,       0.1,     0.25 ]\n",
        "  return np.random.choice( btypes, p=bprobs )\n",
        "\n",
        "def sample_burrito_calories( btype ):\n",
        "  if btype=='beef':\n",
        "    return 100*np.random.randn()+550\n",
        "  if btype=='chicken':\n",
        "    return 100*np.random.randn()+450\n",
        "  if btype=='barbacoa':\n",
        "    return 100*np.random.randn()+720\n",
        "  if btype=='veggie':\n",
        "    return 100*np.random.randn()+400\n",
        "  if btype=='asada':\n",
        "    return 100*np.random.randn()+500\n",
        "\n",
        "def sample_drink_type():\n",
        "  dtypes = ['coke','sprite','fanta','ibc','pepsi']\n",
        "  dprobs = [ 0.1,  0.3,     0.2,    0.3,   0.1 ]\n",
        "  return np.random.choice( dtypes, p=dprobs )\n",
        "\n",
        "def sample_drink_size():\n",
        "  stypes = ['small','medium','large']\n",
        "  sprobs = [ 0.1,   0.8,     0.1 ]\n",
        "  return np.random.choice( stypes, p=sprobs )\n",
        "\n",
        "def sample_drink_calories( dtype, dsize ):\n",
        "  \n",
        "  if dtype=='coke':\n",
        "    cals_per_oz = 50\n",
        "  if dtype=='sprite':\n",
        "    cals_per_oz = 60\n",
        "  if dtype=='fanta':\n",
        "    cals_per_oz = 65\n",
        "  if dtype=='ibc':\n",
        "    cals_per_oz = 45\n",
        "  if dtype=='pepsi':\n",
        "    cals_per_oz = 50\n",
        "\n",
        "  if dsize=='small':\n",
        "    return 10*np.random.randn() + 8*cals_per_oz\n",
        "  if dsize=='medium':\n",
        "    return 20*np.random.randn() + 16*cals_per_oz\n",
        "  if dsize=='large':\n",
        "    return 40*np.random.randn() + 32*cals_per_oz\n",
        "\n",
        "def sample_meal():\n",
        "  my_burrito = sample_burrito_type()\n",
        "  my_drink = sample_drink_type()\n",
        "  my_drink_size = sample_drink_size()\n",
        "  #print( f'Your meal is a {my_burrito} burrito with a {my_drink_size} {my_drink}.' )\n",
        "  burrito_calories = sample_burrito_calories( my_burrito )\n",
        "  drink_calories = sample_drink_calories( my_drink, my_drink_size )\n",
        "  return { \"burrito\":my_burrito, \"drink\":my_drink, \"size\":my_drink_size, \"calories\":burrito_calories + drink_calories }\n",
        "\n"
      ],
      "execution_count": 37,
      "outputs": []
    },
    {
      "cell_type": "code",
      "metadata": {
        "colab": {
          "base_uri": "https://localhost:8080/"
        },
        "id": "3yivjNpXEp2l",
        "outputId": "235a0aa3-657e-40a7-e775-8dd78aa437b4"
      },
      "source": [
        "sample_meal()"
      ],
      "execution_count": 38,
      "outputs": [
        {
          "output_type": "execute_result",
          "data": {
            "text/plain": [
              "{'burrito': 'asada',\n",
              " 'calories': 913.4163341712767,\n",
              " 'drink': 'sprite',\n",
              " 'size': 'small'}"
            ]
          },
          "metadata": {
            "tags": []
          },
          "execution_count": 38
        }
      ]
    },
    {
      "cell_type": "code",
      "metadata": {
        "colab": {
          "base_uri": "https://localhost:8080/"
        },
        "id": "_9EQVdYIE7Gk",
        "outputId": "a0516e07-a732-4ec5-a53e-6dfa802f9d0d"
      },
      "source": [
        "df = pd.DataFrame()\n",
        "tmp = []\n",
        "for s in tqdm( range(10000) ):\n",
        "  meal = sample_meal()\n",
        "  tmp.append(meal)\n",
        "df = df.append(tmp,ignore_index=True)"
      ],
      "execution_count": 74,
      "outputs": [
        {
          "output_type": "stream",
          "text": [
            "100%|██████████| 10000/10000 [00:01<00:00, 9429.78it/s]\n"
          ],
          "name": "stderr"
        }
      ]
    },
    {
      "cell_type": "code",
      "metadata": {
        "colab": {
          "base_uri": "https://localhost:8080/",
          "height": 407
        },
        "id": "1rfOvNSSFVYS",
        "outputId": "e10baa97-5630-47cf-afd4-ba64da7c7e8c"
      },
      "source": [
        "df"
      ],
      "execution_count": 77,
      "outputs": [
        {
          "output_type": "execute_result",
          "data": {
            "text/html": [
              "<div>\n",
              "<style scoped>\n",
              "    .dataframe tbody tr th:only-of-type {\n",
              "        vertical-align: middle;\n",
              "    }\n",
              "\n",
              "    .dataframe tbody tr th {\n",
              "        vertical-align: top;\n",
              "    }\n",
              "\n",
              "    .dataframe thead th {\n",
              "        text-align: right;\n",
              "    }\n",
              "</style>\n",
              "<table border=\"1\" class=\"dataframe\">\n",
              "  <thead>\n",
              "    <tr style=\"text-align: right;\">\n",
              "      <th></th>\n",
              "      <th>burrito</th>\n",
              "      <th>drink</th>\n",
              "      <th>size</th>\n",
              "      <th>calories</th>\n",
              "    </tr>\n",
              "  </thead>\n",
              "  <tbody>\n",
              "    <tr>\n",
              "      <th>0</th>\n",
              "      <td>beef</td>\n",
              "      <td>ibc</td>\n",
              "      <td>medium</td>\n",
              "      <td>1350.864154</td>\n",
              "    </tr>\n",
              "    <tr>\n",
              "      <th>1</th>\n",
              "      <td>beef</td>\n",
              "      <td>fanta</td>\n",
              "      <td>large</td>\n",
              "      <td>2819.605364</td>\n",
              "    </tr>\n",
              "    <tr>\n",
              "      <th>2</th>\n",
              "      <td>barbacoa</td>\n",
              "      <td>fanta</td>\n",
              "      <td>medium</td>\n",
              "      <td>1659.448582</td>\n",
              "    </tr>\n",
              "    <tr>\n",
              "      <th>3</th>\n",
              "      <td>chicken</td>\n",
              "      <td>pepsi</td>\n",
              "      <td>medium</td>\n",
              "      <td>1211.463930</td>\n",
              "    </tr>\n",
              "    <tr>\n",
              "      <th>4</th>\n",
              "      <td>barbacoa</td>\n",
              "      <td>sprite</td>\n",
              "      <td>medium</td>\n",
              "      <td>1488.672483</td>\n",
              "    </tr>\n",
              "    <tr>\n",
              "      <th>...</th>\n",
              "      <td>...</td>\n",
              "      <td>...</td>\n",
              "      <td>...</td>\n",
              "      <td>...</td>\n",
              "    </tr>\n",
              "    <tr>\n",
              "      <th>9995</th>\n",
              "      <td>beef</td>\n",
              "      <td>ibc</td>\n",
              "      <td>medium</td>\n",
              "      <td>1374.073027</td>\n",
              "    </tr>\n",
              "    <tr>\n",
              "      <th>9996</th>\n",
              "      <td>barbacoa</td>\n",
              "      <td>ibc</td>\n",
              "      <td>medium</td>\n",
              "      <td>1220.612789</td>\n",
              "    </tr>\n",
              "    <tr>\n",
              "      <th>9997</th>\n",
              "      <td>asada</td>\n",
              "      <td>fanta</td>\n",
              "      <td>medium</td>\n",
              "      <td>1550.427875</td>\n",
              "    </tr>\n",
              "    <tr>\n",
              "      <th>9998</th>\n",
              "      <td>barbacoa</td>\n",
              "      <td>fanta</td>\n",
              "      <td>medium</td>\n",
              "      <td>1563.705733</td>\n",
              "    </tr>\n",
              "    <tr>\n",
              "      <th>9999</th>\n",
              "      <td>chicken</td>\n",
              "      <td>ibc</td>\n",
              "      <td>large</td>\n",
              "      <td>1975.164909</td>\n",
              "    </tr>\n",
              "  </tbody>\n",
              "</table>\n",
              "<p>10000 rows × 4 columns</p>\n",
              "</div>"
            ],
            "text/plain": [
              "       burrito   drink    size     calories\n",
              "0         beef     ibc  medium  1350.864154\n",
              "1         beef   fanta   large  2819.605364\n",
              "2     barbacoa   fanta  medium  1659.448582\n",
              "3      chicken   pepsi  medium  1211.463930\n",
              "4     barbacoa  sprite  medium  1488.672483\n",
              "...        ...     ...     ...          ...\n",
              "9995      beef     ibc  medium  1374.073027\n",
              "9996  barbacoa     ibc  medium  1220.612789\n",
              "9997     asada   fanta  medium  1550.427875\n",
              "9998  barbacoa   fanta  medium  1563.705733\n",
              "9999   chicken     ibc   large  1975.164909\n",
              "\n",
              "[10000 rows x 4 columns]"
            ]
          },
          "metadata": {
            "tags": []
          },
          "execution_count": 77
        }
      ]
    },
    {
      "cell_type": "code",
      "metadata": {
        "colab": {
          "base_uri": "https://localhost:8080/",
          "height": 598
        },
        "id": "JUE1WXVrFXd3",
        "outputId": "ba39754f-f988-4e3a-c74a-36c0dfa94278"
      },
      "source": [
        "sns.displot( data=df, x='calories', height=8, aspect=10/8)\n",
        "#sns.displot( data=df, x='calories', hue='drink', kind='kde', height=8, aspect=10/8)\n",
        "#sns.displot( data=df, x='calories', hue='size', kind='kde', height=8, aspect=10/8)"
      ],
      "execution_count": 80,
      "outputs": [
        {
          "output_type": "execute_result",
          "data": {
            "text/plain": [
              "<seaborn.axisgrid.FacetGrid at 0x7f95b170a890>"
            ]
          },
          "metadata": {
            "tags": []
          },
          "execution_count": 80
        },
        {
          "output_type": "display_data",
          "data": {
            "image/png": "[encoded data removed]",
            "text/plain": [
              "<Figure size 720x576 with 1 Axes>"
            ]
          },
          "metadata": {
            "tags": []
          }
        }
      ]
    },
    {
      "cell_type": "code",
      "metadata": {
        "colab": {
          "base_uri": "https://localhost:8080/",
          "height": 407
        },
        "id": "qzvNly6wHE7I",
        "outputId": "d80199ea-2b18-461b-8bfb-8208e55f514f"
      },
      "source": [
        ""
      ],
      "execution_count": 63,
      "outputs": [
        {
          "output_type": "execute_result",
          "data": {
            "text/html": [
              "<div>\n",
              "<style scoped>\n",
              "    .dataframe tbody tr th:only-of-type {\n",
              "        vertical-align: middle;\n",
              "    }\n",
              "\n",
              "    .dataframe tbody tr th {\n",
              "        vertical-align: top;\n",
              "    }\n",
              "\n",
              "    .dataframe thead th {\n",
              "        text-align: right;\n",
              "    }\n",
              "</style>\n",
              "<table border=\"1\" class=\"dataframe\">\n",
              "  <thead>\n",
              "    <tr style=\"text-align: right;\">\n",
              "      <th></th>\n",
              "      <th>burrito</th>\n",
              "      <th>calories</th>\n",
              "      <th>drink</th>\n",
              "      <th>size</th>\n",
              "    </tr>\n",
              "  </thead>\n",
              "  <tbody>\n",
              "    <tr>\n",
              "      <th>6</th>\n",
              "      <td>barbacoa</td>\n",
              "      <td>2550.679862</td>\n",
              "      <td>fanta</td>\n",
              "      <td>large</td>\n",
              "    </tr>\n",
              "    <tr>\n",
              "      <th>11</th>\n",
              "      <td>beef</td>\n",
              "      <td>2752.458183</td>\n",
              "      <td>fanta</td>\n",
              "      <td>large</td>\n",
              "    </tr>\n",
              "    <tr>\n",
              "      <th>17</th>\n",
              "      <td>chicken</td>\n",
              "      <td>1424.403855</td>\n",
              "      <td>fanta</td>\n",
              "      <td>medium</td>\n",
              "    </tr>\n",
              "    <tr>\n",
              "      <th>21</th>\n",
              "      <td>barbacoa</td>\n",
              "      <td>1409.393882</td>\n",
              "      <td>fanta</td>\n",
              "      <td>medium</td>\n",
              "    </tr>\n",
              "    <tr>\n",
              "      <th>23</th>\n",
              "      <td>chicken</td>\n",
              "      <td>1407.511986</td>\n",
              "      <td>fanta</td>\n",
              "      <td>medium</td>\n",
              "    </tr>\n",
              "    <tr>\n",
              "      <th>...</th>\n",
              "      <td>...</td>\n",
              "      <td>...</td>\n",
              "      <td>...</td>\n",
              "      <td>...</td>\n",
              "    </tr>\n",
              "    <tr>\n",
              "      <th>969</th>\n",
              "      <td>barbacoa</td>\n",
              "      <td>1461.878010</td>\n",
              "      <td>fanta</td>\n",
              "      <td>medium</td>\n",
              "    </tr>\n",
              "    <tr>\n",
              "      <th>979</th>\n",
              "      <td>barbacoa</td>\n",
              "      <td>1470.139051</td>\n",
              "      <td>fanta</td>\n",
              "      <td>medium</td>\n",
              "    </tr>\n",
              "    <tr>\n",
              "      <th>980</th>\n",
              "      <td>chicken</td>\n",
              "      <td>1416.592585</td>\n",
              "      <td>fanta</td>\n",
              "      <td>medium</td>\n",
              "    </tr>\n",
              "    <tr>\n",
              "      <th>985</th>\n",
              "      <td>chicken</td>\n",
              "      <td>1548.493113</td>\n",
              "      <td>fanta</td>\n",
              "      <td>medium</td>\n",
              "    </tr>\n",
              "    <tr>\n",
              "      <th>987</th>\n",
              "      <td>veggie</td>\n",
              "      <td>1442.202409</td>\n",
              "      <td>fanta</td>\n",
              "      <td>medium</td>\n",
              "    </tr>\n",
              "  </tbody>\n",
              "</table>\n",
              "<p>173 rows × 4 columns</p>\n",
              "</div>"
            ],
            "text/plain": [
              "      burrito     calories  drink    size\n",
              "6    barbacoa  2550.679862  fanta   large\n",
              "11       beef  2752.458183  fanta   large\n",
              "17    chicken  1424.403855  fanta  medium\n",
              "21   barbacoa  1409.393882  fanta  medium\n",
              "23    chicken  1407.511986  fanta  medium\n",
              "..        ...          ...    ...     ...\n",
              "969  barbacoa  1461.878010  fanta  medium\n",
              "979  barbacoa  1470.139051  fanta  medium\n",
              "980   chicken  1416.592585  fanta  medium\n",
              "985   chicken  1548.493113  fanta  medium\n",
              "987    veggie  1442.202409  fanta  medium\n",
              "\n",
              "[173 rows x 4 columns]"
            ]
          },
          "metadata": {
            "tags": []
          },
          "execution_count": 63
        }
      ]
    },
    {
      "cell_type": "code",
      "metadata": {
        "id": "OU3rGB-5JE0W"
      },
      "source": [
        ""
      ],
      "execution_count": null,
      "outputs": []
    }
  ]
}