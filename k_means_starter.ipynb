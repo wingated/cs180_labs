{
  "nbformat": 4,
  "nbformat_minor": 0,
  "metadata": {
    "colab": {
      "name": "k_means_starter.ipynb",
      "provenance": [],
      "authorship_tag": "ABX9TyMppW3AXjxXHp/NkZqtbgku",
      "include_colab_link": true
    },
    "kernelspec": {
      "name": "python3",
      "display_name": "Python 3"
    },
    "language_info": {
      "name": "python"
    },
    "widgets": {
      "application/vnd.jupyter.widget-state+json": {
        "698fe227ac9349348998bbcd13156f67": {
          "model_module": "@jupyter-widgets/controls",
          "model_name": "ButtonModel",
          "state": {
            "_view_name": "ButtonView",
            "style": "IPY_MODEL_ed96f892008948ad9b9ae581b054c87d",
            "_dom_classes": [],
            "description": "Click Me!",
            "_model_name": "ButtonModel",
            "button_style": "",
            "_view_module": "@jupyter-widgets/controls",
            "_model_module_version": "1.5.0",
            "tooltip": "",
            "_view_count": null,
            "disabled": false,
            "_view_module_version": "1.5.0",
            "layout": "IPY_MODEL_3eba79a722754bfc90d0115299ed7cda",
            "_model_module": "@jupyter-widgets/controls",
            "icon": ""
          }
        },
        "ed96f892008948ad9b9ae581b054c87d": {
          "model_module": "@jupyter-widgets/controls",
          "model_name": "ButtonStyleModel",
          "state": {
            "_view_name": "StyleView",
            "_model_name": "ButtonStyleModel",
            "_view_module": "@jupyter-widgets/base",
            "_model_module_version": "1.5.0",
            "_view_count": null,
            "button_color": null,
            "font_weight": "",
            "_view_module_version": "1.2.0",
            "_model_module": "@jupyter-widgets/controls"
          }
        },
        "3eba79a722754bfc90d0115299ed7cda": {
          "model_module": "@jupyter-widgets/base",
          "model_name": "LayoutModel",
          "state": {
            "_view_name": "LayoutView",
            "grid_template_rows": null,
            "right": null,
            "justify_content": null,
            "_view_module": "@jupyter-widgets/base",
            "overflow": null,
            "_model_module_version": "1.2.0",
            "_view_count": null,
            "flex_flow": null,
            "width": null,
            "min_width": null,
            "border": null,
            "align_items": null,
            "bottom": null,
            "_model_module": "@jupyter-widgets/base",
            "top": null,
            "grid_column": null,
            "overflow_y": null,
            "overflow_x": null,
            "grid_auto_flow": null,
            "grid_area": null,
            "grid_template_columns": null,
            "flex": null,
            "_model_name": "LayoutModel",
            "justify_items": null,
            "grid_row": null,
            "max_height": null,
            "align_content": null,
            "visibility": null,
            "align_self": null,
            "height": null,
            "min_height": null,
            "padding": null,
            "grid_auto_rows": null,
            "grid_gap": null,
            "max_width": null,
            "order": null,
            "_view_module_version": "1.2.0",
            "grid_template_areas": null,
            "object_position": null,
            "object_fit": null,
            "grid_auto_columns": null,
            "margin": null,
            "display": null,
            "left": null
          }
        }
      }
    }
  },
  "cells": [
    {
      "cell_type": "markdown",
      "metadata": {
        "id": "view-in-github",
        "colab_type": "text"
      },
      "source": [
        "<a href=\"https://colab.research.google.com/github/wingated/cs180_labs/blob/main/k_means_starter.ipynb\" target=\"_parent\"><img src=\"https://colab.research.google.com/assets/colab-badge.svg\" alt=\"Open In Colab\"/></a>"
      ]
    },
    {
      "cell_type": "code",
      "metadata": {
        "id": "IBpMsereYic3"
      },
      "source": [
        "%matplotlib inline"
      ],
      "execution_count": 1,
      "outputs": []
    },
    {
      "cell_type": "code",
      "metadata": {
        "id": "bLRplV1_Yjlo"
      },
      "source": [
        "import matplotlib.pyplot as plt\n",
        "import numpy as np\n",
        "import pandas as pd\n",
        "import seaborn as sns\n",
        "from tqdm import tqdm\n",
        "\n",
        "plt.rcParams['figure.figsize'] = [10,8]"
      ],
      "execution_count": 2,
      "outputs": []
    },
    {
      "cell_type": "code",
      "metadata": {
        "id": "8Y1kZzWFYlJQ"
      },
      "source": [
        "CNT = 100\n",
        "data1 = 0.5*np.random.randn(CNT,2)\n",
        "data2 = 0.5*np.random.randn(CNT,2) + np.atleast_2d([2,2])\n",
        "data = np.vstack([data1,data2])"
      ],
      "execution_count": null,
      "outputs": []
    },
    {
      "cell_type": "markdown",
      "metadata": {
        "id": "XblW35JBY_W6"
      },
      "source": [
        "# TODO\n",
        "I want you to code up K-means in your group.  Here's the high level outline:\n",
        "\n",
        "*   Initialize centroids randomly\n",
        "\n",
        "*   Repeat until done:\n",
        "  *   Calculate distances from every point to every centroid\n",
        "  *   Label each point with the nearest centroid\n",
        "  *   Recalculate centroid values\n",
        "\n",
        "*   Optional (but highly recommended): plot the data, colored by centroid; plot the centroids\n",
        "\n",
        "Here's the visualization we saw in class:\n",
        "\n",
        "https://stanford.edu/class/engr108/visualizations/kmeans/kmeans.html\n",
        "\n",
        "Hint:\n",
        "\n",
        "*   Make your distance function a parameter.\n",
        "*   What changes if you use L1 vs. L2 distances?\n",
        "\n",
        "If you're looking for an extra challenge, maybe parameterize some of this code with different interactive elements:\n",
        "https://colab.research.google.com/notebooks/forms.ipynb#scrollTo=WPib9hvO8Pmb\n"
      ]
    },
    {
      "cell_type": "code",
      "metadata": {
        "id": "vj9_v1aQZqt9"
      },
      "source": [
        "import ipywidgets as widgets\n",
        "from IPython.display import display, clear_output\n",
        "button = widgets.Button(description=\"Click Me!\")\n"
      ],
      "execution_count": 3,
      "outputs": []
    },
    {
      "cell_type": "code",
      "metadata": {
        "colab": {
          "base_uri": "https://localhost:8080/",
          "height": 515,
          "referenced_widgets": [
            "698fe227ac9349348998bbcd13156f67",
            "ed96f892008948ad9b9ae581b054c87d",
            "3eba79a722754bfc90d0115299ed7cda"
          ]
        },
        "id": "hmktMzxQi-37",
        "outputId": "2deb7303-0a78-4946-d62d-d6089b770c81"
      },
      "source": [
        "def on_button_clicked(b):\n",
        "  #\n",
        "  # ANIMATE STUFF HERE\n",
        "  #\n",
        "\n",
        "  clear_output()\n",
        "  plt.imshow(np.random.rand(50,50,3))\n",
        "  display(button)\n",
        "\n",
        "button.on_click(on_button_clicked)\n",
        "display(button)"
      ],
      "execution_count": 4,
      "outputs": [
        {
          "output_type": "display_data",
          "data": {
            "application/vnd.jupyter.widget-view+json": {
              "model_id": "698fe227ac9349348998bbcd13156f67",
              "version_minor": 0,
              "version_major": 2
            },
            "text/plain": [
              "Button(description='Click Me!', style=ButtonStyle())"
            ]
          },
          "metadata": {
            "tags": []
          }
        },
        {
          "output_type": "display_data",
          "data": {
            "image/png": "[encoded data removed]",
            "text/plain": [
              "<Figure size 720x576 with 1 Axes>"
            ]
          },
          "metadata": {
            "tags": [],
            "needs_background": "light"
          }
        }
      ]
    }
  ]
}