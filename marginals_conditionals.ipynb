{
  "nbformat": 4,
  "nbformat_minor": 0,
  "metadata": {
    "colab": {
      "name": "marginals_conditionals.ipynb",
      "provenance": [],
      "include_colab_link": true
    },
    "kernelspec": {
      "name": "python3",
      "display_name": "Python 3"
    }
  },
  "cells": [
    {
      "cell_type": "markdown",
      "metadata": {
        "id": "view-in-github",
        "colab_type": "text"
      },
      "source": [
        "<a href=\"https://colab.research.google.com/github/wingated/cs180_labs/blob/main/marginals_conditionals.ipynb\" target=\"_parent\"><img src=\"https://colab.research.google.com/assets/colab-badge.svg\" alt=\"Open In Colab\"/></a>"
      ]
    },
    {
      "cell_type": "markdown",
      "metadata": {
        "id": "lDsCiEsJEl9Y"
      },
      "source": [
        "# Conditionals, Marginals and Expectations\n",
        "\n",
        "In this lab, you will practice working with conditionals, marginals and expectations.\n",
        "\n",
        "HINT: you should use the numpy (np) library.  You should look at how to represent 2D arrays (also called \"matrices\"), as well as how to extract a specific row or column from a matrix (called \"indexing\").  You may find other functions, such as np.sum, np.mean, etc. helpful.\n",
        "\n",
        "Learn to read the documentation!"
      ]
    },
    {
      "cell_type": "code",
      "metadata": {
        "id": "n1aEEgLjDYfD"
      },
      "source": [
        "%matplotlib inline"
      ],
      "execution_count": null,
      "outputs": []
    },
    {
      "cell_type": "code",
      "metadata": {
        "id": "0frOHPrFDam4"
      },
      "source": [
        "import matplotlib.pyplot as plt\n",
        "import numpy as np\n",
        "import pandas as pd"
      ],
      "execution_count": null,
      "outputs": []
    },
    {
      "cell_type": "markdown",
      "metadata": {
        "id": "Z01ArwAlIXPz"
      },
      "source": [
        "Your initial data comes in the form of counts.  These are from the ANES data, and represent ideology (rows) and votechoice (columns)."
      ]
    },
    {
      "cell_type": "code",
      "metadata": {
        "id": "yiqBROxHECBa"
      },
      "source": [
        "data = np.atleast_2d( [\n",
        "[106.0,\t4.0],\n",
        "[366.0,\t7.0],\n",
        "[216.0,\t30.0],\n",
        "[309.0,\t205.0],\n",
        "[85.0,\t215.0],\n",
        "[26.0,\t475.0],\n",
        "[8.0,\t123.0]\n",
        "] )\n",
        "print(data.shape)\n",
        "print(data)"
      ],
      "execution_count": null,
      "outputs": []
    },
    {
      "cell_type": "markdown",
      "metadata": {
        "id": "gwlkmwWUEdae"
      },
      "source": [
        "# TODO:\n",
        "\n",
        "Write a function that converts a 2D array of counts to a probability distribution."
      ]
    },
    {
      "cell_type": "code",
      "metadata": {
        "id": "fQ7nYVxpDrfX"
      },
      "source": [
        "def counts_to_probabilities( cnts ):\n",
        "  pass"
      ],
      "execution_count": null,
      "outputs": []
    },
    {
      "cell_type": "code",
      "metadata": {
        "id": "87QkoFB_DtFr"
      },
      "source": [
        "probs = counts_to_probabilities( data )\n",
        "print( probs[2,0] ) # the probability of row 2 [0-based indexing], column 0 should be 0.0993\n",
        "print( np.sum(probs) ) # should be 1.0\n",
        "print( np.any( probs<0 )) # should be False\n"
      ],
      "execution_count": null,
      "outputs": []
    },
    {
      "cell_type": "markdown",
      "metadata": {
        "id": "6_Jdkn_XE4t2"
      },
      "source": [
        "# TODO:\n",
        "\n",
        "Write two functions: one that calculates the marginal distribution of the rows, and one that calculates the marginal distribution of the columns."
      ]
    },
    {
      "cell_type": "code",
      "metadata": {
        "id": "G7upEY1OE3Ks"
      },
      "source": [
        "def marginalize_out_rows( probs ):\n",
        "  pass\n",
        "def marginalize_out_cols( probs ):\n",
        "  pass"
      ],
      "execution_count": null,
      "outputs": []
    },
    {
      "cell_type": "code",
      "metadata": {
        "id": "oQKHBGSkDtxy"
      },
      "source": [
        "row_marg = marginalize_out_rows( probs )\n",
        "print(row_marg.shape)  # should be 2x1, or (2,)\n",
        "print(row_marg[0]) # 0.513\n",
        "\n",
        "col_marg = marginalize_out_cols( probs )\n",
        "print(col_marg.shape) # should be 7x1, or (7,)\n",
        "print(col_marg[0]) # 0.051"
      ],
      "execution_count": null,
      "outputs": []
    },
    {
      "cell_type": "markdown",
      "metadata": {
        "id": "i5J5oNQkEZQw"
      },
      "source": [
        "# TODO:\n",
        "Write two functions: one that calculates the conditional distribution of columns, given a specific row; and one that calculates the conditional distribution of rows, given a specific column."
      ]
    },
    {
      "cell_type": "code",
      "metadata": {
        "id": "xHlPJ8FpEWXi"
      },
      "source": [
        "def condition_on_row( probs, rownum ):\n",
        "  pass\n",
        "\n",
        "def condition_on_col( probs, colnum ):\n",
        "  pass"
      ],
      "execution_count": null,
      "outputs": []
    },
    {
      "cell_type": "code",
      "metadata": {
        "id": "PU4QGZsVG5Wx"
      },
      "source": [
        "print( condition_on_row( probs, 3)[0] )  # should be 0.601\n",
        "print( condition_on_col( probs, 0)[3] )  # should be 0.277"
      ],
      "execution_count": null,
      "outputs": []
    },
    {
      "cell_type": "markdown",
      "metadata": {
        "id": "0p_tDryVHMTY"
      },
      "source": [
        "# TODO:\n",
        "\n",
        "Write a function that calculates the expectation of a function f, given a probability distribution probs.  You may assume that the values of x are integers ranging from 0 to the length of the distribution. You may also assume that the probability distribution is over a single variable (meaning that you don't have to worry about two-dimensional arrays or anything like that - everything will be one-dimensional).\n"
      ]
    },
    {
      "cell_type": "code",
      "metadata": {
        "id": "kvF5os6pHUxA"
      },
      "source": [
        "def f1(x):\n",
        "  return np.exp(x)/20 + 17\n",
        "def f2(x):\n",
        "  return np.cos(5*x)*np.sin(x/3)"
      ],
      "execution_count": null,
      "outputs": []
    },
    {
      "cell_type": "code",
      "metadata": {
        "id": "XzSQgiRRHVWn"
      },
      "source": [
        "def expectation(probs,f):\n",
        "  pass"
      ],
      "execution_count": null,
      "outputs": []
    },
    {
      "cell_type": "code",
      "metadata": {
        "id": "ESdXUSvoHzvR"
      },
      "source": [
        "print( expectation( condition_on_row(probs,3), f1 ) )  # 17.08\n",
        "print( expectation( condition_on_col(probs,1), f2 ) )  # 0.40\n",
        "print( expectation( marginalize_out_rows(probs), f1 )) # 17.09\n",
        "print( expectation( marginalize_out_cols(probs), f2 )) # 0.097\n"
      ],
      "execution_count": null,
      "outputs": []
    },
    {
      "cell_type": "markdown",
      "metadata": {
        "id": "J0Mb_iBvJEZu"
      },
      "source": [
        "# TODO:\n",
        "\n",
        "In a style similar to f1 and f2 above, write a small identity function."
      ]
    },
    {
      "cell_type": "code",
      "metadata": {
        "id": "Jxlp-xydH5tl"
      },
      "source": [
        "# XXX your code here"
      ],
      "execution_count": null,
      "outputs": []
    },
    {
      "cell_type": "code",
      "metadata": {
        "id": "-ugLWUHRJDS3"
      },
      "source": [
        "print( expectation( marginalize_out_cols(probs), identity ) )  # 3.171\n",
        "print( expectation( marginalize_out_rows(probs), identity ) )  # 0.487"
      ],
      "execution_count": null,
      "outputs": []
    },
    {
      "cell_type": "code",
      "metadata": {
        "id": "LGE2EImxJVmk"
      },
      "source": [
        ""
      ],
      "execution_count": null,
      "outputs": []
    }
  ]
}