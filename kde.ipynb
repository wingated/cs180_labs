{
  "nbformat": 4,
  "nbformat_minor": 0,
  "metadata": {
    "colab": {
      "name": "kde.ipynb",
      "provenance": [],
      "include_colab_link": true
    },
    "kernelspec": {
      "name": "python3",
      "display_name": "Python 3"
    }
  },
  "cells": [
    {
      "cell_type": "markdown",
      "metadata": {
        "id": "view-in-github",
        "colab_type": "text"
      },
      "source": [
        "<a href=\"https://colab.research.google.com/github/wingated/cs180_labs/blob/main/kde.ipynb\" target=\"_parent\"><img src=\"https://colab.research.google.com/assets/colab-badge.svg\" alt=\"Open In Colab\"/></a>"
      ]
    },
    {
      "cell_type": "markdown",
      "metadata": {
        "id": "4IYoKu9TvlLw"
      },
      "source": [
        "# Kernel Density Estimation\n",
        "\n",
        "In this lab, we'll learn the basics of a visualization technique known as \"kernel density estimation\".  This allows us to build nice \"smoothed\" histograms.  But we'll start by building our own histogram binning function."
      ]
    },
    {
      "cell_type": "code",
      "metadata": {
        "id": "ahZa3_m8vh8I"
      },
      "source": [
        "%matplotlib inline"
      ],
      "execution_count": null,
      "outputs": []
    },
    {
      "cell_type": "code",
      "metadata": {
        "id": "3y3UWwy5v6Im"
      },
      "source": [
        "import matplotlib.pyplot as plt\n",
        "import numpy as np\n",
        "import pandas as pd\n",
        "import seaborn as sns\n",
        "\n",
        "plt.rcParams['figure.figsize'] = [6, 6]\n"
      ],
      "execution_count": null,
      "outputs": []
    },
    {
      "cell_type": "markdown",
      "metadata": {
        "id": "h-1GQ019wRXh"
      },
      "source": [
        "# TODO\n",
        "\n",
        "Write a function that accepts as input a list of data (just floats for now) and parameters controlling the size and location of bins.  The function returns a list of counts, along with a list of where the left edges of each bin are and the width of the bins."
      ]
    },
    {
      "cell_type": "code",
      "metadata": {
        "id": "CMMe9CL5s8cU"
      },
      "source": [
        "# data is a 1-dimensional numpy vector of data.\n",
        "# bin_start represents the left edge of our bins\n",
        "# bin_end represents the right edge of our bins\n",
        "# n_bins represents is the number of bins\n",
        "#\n",
        "# this function should return 3 things:\n",
        "#   bin_counts - a vector of counts for each bin\n",
        "#   bin_left_edges - a vector showing where each bin begins\n",
        "#   bin_width - a single float telling how wide each bin is\n",
        "#\n",
        "def bin_data( data, bin_start=0, bin_end=1.0, n_bins=10 ):\n",
        "  bin_counts = np.zeros((n_bins))\n",
        "  bin_left_edges = np.zeros((n_bins))\n",
        "  #\n",
        "  # XXX fill me in!\n",
        "  #\n",
        "  # a few hints:\n",
        "  # what is the width of each bin?\n",
        "  # where does each bin start?\n",
        "  #\n",
        "\n",
        "  # Corner cases:\n",
        "  # if a data point is to the left of the leftmost bin, or to the right of the rightmost bin, drop it into the nearest bin.\n",
        "  # if a data point lands exactly on the edge between two bins, drop it into the right bin (as opposed to the left bin).  Maybe use np.floor?\n",
        "\n",
        "  # this function should return the counts in each bin, as well as where each bin starts\n",
        "  return bin_counts, bin_left_edges, bin_width"
      ],
      "execution_count": null,
      "outputs": []
    },
    {
      "cell_type": "markdown",
      "metadata": {
        "id": "lLr9eNl_xRBr"
      },
      "source": [
        "# TODO\n",
        "\n",
        "Code up a quick function that does a sanity check on your binning.  This should perform two checks: \n",
        "\n",
        "1) The total number of items in the bins should always be equal to the length of the data array\n",
        "\n",
        "2) No counts should be negative"
      ]
    },
    {
      "cell_type": "code",
      "metadata": {
        "id": "4FcpLtWNxPi_"
      },
      "source": [
        "# bins is a 1d numpy vector of counts\n",
        "# data is our original data\n",
        "#\n",
        "# returns a boolean - True if it's a valid binning, False otherwise\n",
        "#\n",
        "# maybe look at np.sum and np.all?\n",
        "def sanity_check( bins, data ):\n",
        "  pass\n"
      ],
      "execution_count": null,
      "outputs": []
    },
    {
      "cell_type": "code",
      "metadata": {
        "colab": {
          "base_uri": "https://localhost:8080/"
        },
        "id": "l2mvdfawx3gv",
        "outputId": "203fc516-bd6e-4abf-c110-0cd2bf0ea06c"
      },
      "source": [
        "data = np.atleast_1d([1,2,3,4,5,6,7,8,9,10])*0.07\n",
        "bin_counts, bin_left_edges, bin_width = bin_data( data )\n",
        "sanity_check( bin_counts, data )"
      ],
      "execution_count": null,
      "outputs": [
        {
          "output_type": "execute_result",
          "data": {
            "text/plain": [
              "True"
            ]
          },
          "metadata": {
            "tags": []
          },
          "execution_count": 11
        }
      ]
    },
    {
      "cell_type": "markdown",
      "metadata": {
        "id": "IBZaeAyGoVe_"
      },
      "source": [
        "# Test it!\n",
        "\n",
        "Ok, let's test your function by visualizing a few things.\n",
        "\n",
        "Here are some data sets that you should test your function on, and some visualizations that I got when I ran them.  Remember, they're stochastic, so your plots may look a little different than mine."
      ]
    },
    {
      "cell_type": "code",
      "metadata": {
        "colab": {
          "base_uri": "https://localhost:8080/",
          "height": 443
        },
        "id": "7Rrks5qT3rpS",
        "outputId": "8217b31f-0a72-4a63-ebbd-21e374ad329e"
      },
      "source": [
        "data = np.atleast_1d([1,2,3,4,5,6,7,8,9,10])*0.07\n",
        "bin_counts, bin_left_edges, bin_width = bin_data( data, bin_start=0, bin_end=1, n_bins=10 )\n",
        "print(bin_counts)\n",
        "print(bin_left_edges)\n",
        "print(bin_width)\n",
        "plt.bar( bin_left_edges, bin_counts, bin_width )"
      ],
      "execution_count": null,
      "outputs": [
        {
          "output_type": "stream",
          "text": [
            "[1. 1. 2. 1. 2. 1. 1. 1. 0. 0.]\n",
            "[0.  0.1 0.2 0.3 0.4 0.5 0.6 0.7 0.8 0.9]\n",
            "0.1\n"
          ],
          "name": "stdout"
        },
        {
          "output_type": "execute_result",
          "data": {
            "text/plain": [
              "<BarContainer object of 10 artists>"
            ]
          },
          "metadata": {
            "tags": []
          },
          "execution_count": 26
        },
        {
          "output_type": "display_data",
          "data": {
            "image/png": "[encoded data removed]",
            "text/plain": [
              "<Figure size 432x432 with 1 Axes>"
            ]
          },
          "metadata": {
            "tags": [],
            "needs_background": "light"
          }
        }
      ]
    },
    {
      "cell_type": "code",
      "metadata": {
        "colab": {
          "base_uri": "https://localhost:8080/",
          "height": 391
        },
        "id": "_LT7jCZzofXR",
        "outputId": "ff6125fa-d32e-48b6-ed13-2d6b95a7ba91"
      },
      "source": [
        "data = 0.5*np.random.randn(1000)\n",
        "bin_counts, bin_left_edges, bin_width = bin_data( data, bin_start=-2, bin_end=2, n_bins=100 )\n",
        "plt.bar( bin_left_edges, bin_counts, bin_width )"
      ],
      "execution_count": null,
      "outputs": [
        {
          "output_type": "execute_result",
          "data": {
            "text/plain": [
              "<BarContainer object of 100 artists>"
            ]
          },
          "metadata": {
            "tags": []
          },
          "execution_count": 27
        },
        {
          "output_type": "display_data",
          "data": {
            "image/png": "[encoded data removed]",
            "text/plain": [
              "<Figure size 432x432 with 1 Axes>"
            ]
          },
          "metadata": {
            "tags": [],
            "needs_background": "light"
          }
        }
      ]
    },
    {
      "cell_type": "code",
      "metadata": {
        "colab": {
          "base_uri": "https://localhost:8080/",
          "height": 395
        },
        "id": "_rj6jGGdoyP2",
        "outputId": "dec63295-7402-4b4a-df4d-e23701fd441f"
      },
      "source": [
        "data = 0.5*np.random.randn(10000)\n",
        "bin_counts, bin_left_edges, bin_width = bin_data( data, bin_start=-2, bin_end=2, n_bins=100 )\n",
        "plt.bar( bin_left_edges, bin_counts, bin_width )"
      ],
      "execution_count": null,
      "outputs": [
        {
          "output_type": "execute_result",
          "data": {
            "text/plain": [
              "<BarContainer object of 100 artists>"
            ]
          },
          "metadata": {
            "tags": []
          },
          "execution_count": 28
        },
        {
          "output_type": "display_data",
          "data": {
            "image/png": "[encoded data removed]",
            "text/plain": [
              "<Figure size 432x432 with 1 Axes>"
            ]
          },
          "metadata": {
            "tags": [],
            "needs_background": "light"
          }
        }
      ]
    },
    {
      "cell_type": "code",
      "metadata": {
        "colab": {
          "base_uri": "https://localhost:8080/",
          "height": 391
        },
        "id": "UFboWtsttMJP",
        "outputId": "7dde13ce-290f-43d8-fd64-1c5586e60dc9"
      },
      "source": [
        "data = np.random.randn(10000)\n",
        "bin_counts, bin_left_edges, bin_width = bin_data( data, bin_start=-2, bin_end=2, n_bins=100 )\n",
        "plt.bar( bin_left_edges, bin_counts, bin_width )"
      ],
      "execution_count": null,
      "outputs": [
        {
          "output_type": "execute_result",
          "data": {
            "text/plain": [
              "<BarContainer object of 100 artists>"
            ]
          },
          "metadata": {
            "tags": []
          },
          "execution_count": 29
        },
        {
          "output_type": "display_data",
          "data": {
            "image/png": "[encoded data removed]",
            "text/plain": [
              "<Figure size 432x432 with 1 Axes>"
            ]
          },
          "metadata": {
            "tags": [],
            "needs_background": "light"
          }
        }
      ]
    },
    {
      "cell_type": "markdown",
      "metadata": {
        "id": "PfICUQUl0cV3"
      },
      "source": [
        "# Small number of bins.\n",
        "\n",
        "What happens when the number of bins is big, but the amount of data is small?"
      ]
    },
    {
      "cell_type": "code",
      "metadata": {
        "colab": {
          "base_uri": "https://localhost:8080/",
          "height": 391
        },
        "id": "PFYmErBV0b5J",
        "outputId": "009cd0a1-833a-4188-b857-4de7035237ad"
      },
      "source": [
        "data = np.random.randn( 10)\n",
        "bin_counts, bin_left_edges, bin_width = bin_data( data, bin_start=-2, bin_end=2, n_bins=100 )\n",
        "plt.bar( bin_left_edges, bin_counts, bin_width)"
      ],
      "execution_count": null,
      "outputs": [
        {
          "output_type": "execute_result",
          "data": {
            "text/plain": [
              "<BarContainer object of 100 artists>"
            ]
          },
          "metadata": {
            "tags": []
          },
          "execution_count": 30
        },
        {
          "output_type": "display_data",
          "data": {
            "image/png": "[encoded data removed]",
            "text/plain": [
              "<Figure size 432x432 with 1 Axes>"
            ]
          },
          "metadata": {
            "tags": [],
            "needs_background": "light"
          }
        }
      ]
    },
    {
      "cell_type": "markdown",
      "metadata": {
        "id": "N2NAfA1zjA3A"
      },
      "source": [
        "# TODO - Partial bins\n",
        "\n",
        "Let's smooth out our binning.\n",
        "\n",
        "Instead of dropping each data point into a single bin *b*, let's drop most of it into bin b, and part of it into bin *b-1* and part into *b+1*.  This will smooth out our histogram!\n",
        "\n",
        "More generally, given a list of *proportions*, let's drop some of each data point into a number of bins.\n",
        "\n",
        "You must write a function called \"smooth_bin_data\" which is just like your \"bin_data\" function above, but which takes an additional argument \"props\".  Props is a list of proportions, and represents the amount of each data point that gets dropped into adjacent bins.\n",
        "\n",
        "So, if props is a list like [0.1,0.2,0.4,0.2,0.1], you should drop\n",
        "* 0.1 into bin *b-2*,\n",
        "* 0.2 into bin *b-1*,\n",
        "* 0.4 into bin *b*,\n",
        "* 0.2 into bin *b+1*,\n",
        "* 0.1 into bin *b+2*\n",
        "\n",
        "Of course, your code should work for a list of props that is arbitrarily long."
      ]
    },
    {
      "cell_type": "code",
      "metadata": {
        "id": "SLD_OIZktV9l"
      },
      "source": [
        "def smooth_bin_data( data, bin_start=0, bin_end=1.0, n_bins=10, props=[0.1,0.2,0.4,0.2,0.1] ):\n",
        "  bin_counts = np.zeros((n_bins))\n",
        "  bin_left_edges = np.zeros((n_bins))\n",
        "\n",
        "  # XXX fill me in!\n",
        "  \n",
        "  # this function should return the counts in each bin, as well as where each bin starts\n",
        "  return bin_counts, bin_left_edges, bin_width"
      ],
      "execution_count": null,
      "outputs": []
    },
    {
      "cell_type": "code",
      "metadata": {
        "colab": {
          "base_uri": "https://localhost:8080/",
          "height": 391
        },
        "id": "fiL2-MNHq6qL",
        "outputId": "1ba6a587-7fc3-4f7f-a17d-063354ee90ce"
      },
      "source": [
        "data = [ 0.0 ]\n",
        "props = [0.1,0.2,0.4,0.2,0.1]\n",
        "bin_counts, bin_left_edges, bin_width = smooth_bin_data( data, bin_start=-2, bin_end=2, n_bins=10, props=props )\n",
        "plt.bar( bin_left_edges, bin_counts, bin_width)"
      ],
      "execution_count": null,
      "outputs": [
        {
          "output_type": "execute_result",
          "data": {
            "text/plain": [
              "<BarContainer object of 10 artists>"
            ]
          },
          "metadata": {
            "tags": []
          },
          "execution_count": 31
        },
        {
          "output_type": "display_data",
          "data": {
            "image/png": "[encoded data removed]",
            "text/plain": [
              "<Figure size 432x432 with 1 Axes>"
            ]
          },
          "metadata": {
            "tags": [],
            "needs_background": "light"
          }
        }
      ]
    },
    {
      "cell_type": "markdown",
      "metadata": {
        "id": "Dwy2mvKKrHkz"
      },
      "source": [
        "# Great! Let's experiment with cool windowing functions\n",
        "\n",
        "Now that we can smooth our histogram, we can use all sorts of props.  These are known as *windowing functions*, or sometimes *kernels*.\n",
        "\n",
        "Kernels are kind of like distributions: they should always consist of only positive numbers, and they should sum to one."
      ]
    },
    {
      "cell_type": "code",
      "metadata": {
        "id": "CGO3HrC3kuLP"
      },
      "source": [
        "# Here is a uniform kernel\n",
        "def uniform_kernel( nbins ):\n",
        "  tmp = np.ones(nbins)\n",
        "  return tmp/np.sum(tmp)\n",
        "\n",
        "# Here is a gaussian kernel\n",
        "def gaussian_kernel( nbins, ss=1.0 ):\n",
        "  mu = (nbins-1)/2\n",
        "  x = np.atleast_1d( range(nbins) )\n",
        "  tmp = np.exp( -(1/ss) * (x-mu)*(x-mu))\n",
        "  return tmp/np.sum(tmp)\n"
      ],
      "execution_count": null,
      "outputs": []
    },
    {
      "cell_type": "markdown",
      "metadata": {
        "id": "EqL7ikiI-SNg"
      },
      "source": [
        "# TODO\n",
        "\n",
        "Code up the triangular windowing function."
      ]
    },
    {
      "cell_type": "code",
      "metadata": {
        "id": "52AuNFJrthXc"
      },
      "source": [
        "# Here is a triangular kernel\n",
        "def triangular_kernel( nbins=11, width=5 ):\n",
        "  pass"
      ],
      "execution_count": null,
      "outputs": []
    },
    {
      "cell_type": "code",
      "metadata": {
        "colab": {
          "base_uri": "https://localhost:8080/",
          "height": 391
        },
        "id": "vFDFcR96r8Us",
        "outputId": "154fe0d0-01a5-4d26-a765-1452b44aaa27"
      },
      "source": [
        "props=uniform_kernel(20)\n",
        "plt.plot(props)"
      ],
      "execution_count": null,
      "outputs": [
        {
          "output_type": "execute_result",
          "data": {
            "text/plain": [
              "[<matplotlib.lines.Line2D at 0x7f452d9acb10>]"
            ]
          },
          "metadata": {
            "tags": []
          },
          "execution_count": 35
        },
        {
          "output_type": "display_data",
          "data": {
            "image/png": "[encoded data removed]",
            "text/plain": [
              "<Figure size 432x432 with 1 Axes>"
            ]
          },
          "metadata": {
            "tags": [],
            "needs_background": "light"
          }
        }
      ]
    },
    {
      "cell_type": "code",
      "metadata": {
        "colab": {
          "base_uri": "https://localhost:8080/",
          "height": 391
        },
        "id": "Y_PkStvlnbXT",
        "outputId": "b6f94bc7-4002-4c0d-9fe1-f76a9cfcaf0b"
      },
      "source": [
        "props=gaussian_kernel(20,ss=10)\n",
        "plt.plot(props)"
      ],
      "execution_count": null,
      "outputs": [
        {
          "output_type": "execute_result",
          "data": {
            "text/plain": [
              "[<matplotlib.lines.Line2D at 0x7f452e4d8850>]"
            ]
          },
          "metadata": {
            "tags": []
          },
          "execution_count": 36
        },
        {
          "output_type": "display_data",
          "data": {
            "image/png": "[encoded data removed]",
            "text/plain": [
              "<Figure size 432x432 with 1 Axes>"
            ]
          },
          "metadata": {
            "tags": [],
            "needs_background": "light"
          }
        }
      ]
    },
    {
      "cell_type": "code",
      "metadata": {
        "colab": {
          "base_uri": "https://localhost:8080/",
          "height": 391
        },
        "id": "0MnuqkJyj9A5",
        "outputId": "57792287-ff80-40ee-d092-1b15a0bd41c1"
      },
      "source": [
        "data = [-1.5, -1.0, -0.5, 0.0, 0.5, 1.0]\n",
        "props=gaussian_kernel(20,ss=10)\n",
        "bin_counts, bin_left_edges, bin_width = smooth_bin_data( data, bin_start=-2, bin_end=2, n_bins=100, props=props )\n",
        "plt.bar( bin_left_edges, bin_counts, bin_width)"
      ],
      "execution_count": null,
      "outputs": [
        {
          "output_type": "execute_result",
          "data": {
            "text/plain": [
              "<BarContainer object of 100 artists>"
            ]
          },
          "metadata": {
            "tags": []
          },
          "execution_count": 37
        },
        {
          "output_type": "display_data",
          "data": {
            "image/png": "[encoded data removed]",
            "text/plain": [
              "<Figure size 432x432 with 1 Axes>"
            ]
          },
          "metadata": {
            "tags": [],
            "needs_background": "light"
          }
        }
      ]
    },
    {
      "cell_type": "code",
      "metadata": {
        "colab": {
          "base_uri": "https://localhost:8080/",
          "height": 386
        },
        "id": "q_XCerw1j_2r",
        "outputId": "ec4f7e16-3392-4ff6-9ec3-7532cbde692a"
      },
      "source": [
        "data = 0.5*np.random.randn(100)\n",
        "sns.displot(data,kind='kde')"
      ],
      "execution_count": null,
      "outputs": [
        {
          "output_type": "execute_result",
          "data": {
            "text/plain": [
              "<seaborn.axisgrid.FacetGrid at 0x7f452dd66b50>"
            ]
          },
          "metadata": {
            "tags": []
          },
          "execution_count": 38
        },
        {
          "output_type": "display_data",
          "data": {
            "image/png": "[encoded data removed]",
            "text/plain": [
              "<Figure size 360x360 with 1 Axes>"
            ]
          },
          "metadata": {
            "tags": [],
            "needs_background": "light"
          }
        }
      ]
    },
    {
      "cell_type": "markdown",
      "metadata": {
        "id": "Yd7TFrI9sW5O"
      },
      "source": [
        "# TODO - tune parameters\n",
        "\n",
        "Can you use your smooth_bin_data function to make your smoothed histogram look like the KDE plot above?"
      ]
    },
    {
      "cell_type": "code",
      "metadata": {
        "id": "__faFuJy-cqA"
      },
      "source": [
        "# XXX fill me in!"
      ],
      "execution_count": null,
      "outputs": []
    },
    {
      "cell_type": "code",
      "metadata": {
        "colab": {
          "base_uri": "https://localhost:8080/",
          "height": 391
        },
        "id": "foJiX54PuaEu",
        "outputId": "be807bbd-bc0f-4092-b633-8694c3c33010"
      },
      "source": [
        "plt.bar( bin_left_edges, bin_counts, bin_width)\n",
        "print(sanity_check(bin_counts,data))"
      ],
      "execution_count": null,
      "outputs": [
        {
          "output_type": "stream",
          "text": [
            "True\n"
          ],
          "name": "stdout"
        },
        {
          "output_type": "display_data",
          "data": {
            "image/png": "[encoded data removed]",
            "text/plain": [
              "<Figure size 432x432 with 1 Axes>"
            ]
          },
          "metadata": {
            "tags": [],
            "needs_background": "light"
          }
        }
      ]
    },
    {
      "cell_type": "code",
      "metadata": {
        "id": "ZC6q76a1mT4y"
      },
      "source": [
        ""
      ],
      "execution_count": null,
      "outputs": []
    }
  ]
}