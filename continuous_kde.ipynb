{
  "nbformat": 4,
  "nbformat_minor": 0,
  "metadata": {
    "colab": {
      "name": "continuous_kde.ipynb",
      "provenance": [],
      "authorship_tag": "ABX9TyMS2AS9YC2iY4SJI74FcQBc",
      "include_colab_link": true
    },
    "kernelspec": {
      "name": "python3",
      "display_name": "Python 3"
    }
  },
  "cells": [
    {
      "cell_type": "markdown",
      "metadata": {
        "id": "view-in-github",
        "colab_type": "text"
      },
      "source": [
        "<a href=\"https://colab.research.google.com/github/wingated/cs180_labs/blob/main/continuous_kde.ipynb\" target=\"_parent\"><img src=\"https://colab.research.google.com/assets/colab-badge.svg\" alt=\"Open In Colab\"/></a>"
      ]
    },
    {
      "cell_type": "code",
      "metadata": {
        "id": "W3RAZcZVdfs8"
      },
      "source": [
        "%matplotlib inline"
      ],
      "execution_count": 1,
      "outputs": []
    },
    {
      "cell_type": "code",
      "metadata": {
        "id": "jI7oXOk9dhpx"
      },
      "source": [
        "import matplotlib.pyplot as plt\n",
        "import numpy as np\n",
        "import pandas as pd\n",
        "import seaborn as sns\n",
        "\n",
        "plt.rcParams['figure.figsize'] = [6, 6]"
      ],
      "execution_count": 2,
      "outputs": []
    },
    {
      "cell_type": "code",
      "metadata": {
        "id": "IE3Ev7YgdihP"
      },
      "source": [
        "data = np.random.randn(100)"
      ],
      "execution_count": 3,
      "outputs": []
    },
    {
      "cell_type": "code",
      "metadata": {
        "id": "0-ttm5-IdkxB"
      },
      "source": [
        "def k( x ):\n",
        "  return (1/np.sqrt(2*3.141592653)) * np.exp( -0.5*(x*x) )"
      ],
      "execution_count": 4,
      "outputs": []
    },
    {
      "cell_type": "code",
      "metadata": {
        "colab": {
          "base_uri": "https://localhost:8080/"
        },
        "id": "u4dThYA5eSbq",
        "outputId": "ca2e6c38-8dca-4a6d-8758-0644b85d8268"
      },
      "source": [
        "x = np.asarray([1.1,0.9])\n",
        "y = np.asarray([0.5,2.0])\n",
        "print(x)\n",
        "print(y)\n",
        "print(-0.5*(x*y))"
      ],
      "execution_count": 16,
      "outputs": [
        {
          "output_type": "stream",
          "text": [
            "[1.1 0.9]\n",
            "[0.5 2. ]\n",
            "[-0.275 -0.9  ]\n"
          ],
          "name": "stdout"
        }
      ]
    },
    {
      "cell_type": "code",
      "metadata": {
        "colab": {
          "base_uri": "https://localhost:8080/"
        },
        "id": "L0XOHJfYdwt4",
        "outputId": "3dbbbc6f-cb96-4db3-f698-d8a70e477de3"
      },
      "source": [
        "xvals = np.linspace(-2,2,num=100)\n",
        "xvals.shape\n",
        "print(xvals)"
      ],
      "execution_count": 17,
      "outputs": [
        {
          "output_type": "stream",
          "text": [
            "[-2.         -1.95959596 -1.91919192 -1.87878788 -1.83838384 -1.7979798\n",
            " -1.75757576 -1.71717172 -1.67676768 -1.63636364 -1.5959596  -1.55555556\n",
            " -1.51515152 -1.47474747 -1.43434343 -1.39393939 -1.35353535 -1.31313131\n",
            " -1.27272727 -1.23232323 -1.19191919 -1.15151515 -1.11111111 -1.07070707\n",
            " -1.03030303 -0.98989899 -0.94949495 -0.90909091 -0.86868687 -0.82828283\n",
            " -0.78787879 -0.74747475 -0.70707071 -0.66666667 -0.62626263 -0.58585859\n",
            " -0.54545455 -0.50505051 -0.46464646 -0.42424242 -0.38383838 -0.34343434\n",
            " -0.3030303  -0.26262626 -0.22222222 -0.18181818 -0.14141414 -0.1010101\n",
            " -0.06060606 -0.02020202  0.02020202  0.06060606  0.1010101   0.14141414\n",
            "  0.18181818  0.22222222  0.26262626  0.3030303   0.34343434  0.38383838\n",
            "  0.42424242  0.46464646  0.50505051  0.54545455  0.58585859  0.62626263\n",
            "  0.66666667  0.70707071  0.74747475  0.78787879  0.82828283  0.86868687\n",
            "  0.90909091  0.94949495  0.98989899  1.03030303  1.07070707  1.11111111\n",
            "  1.15151515  1.19191919  1.23232323  1.27272727  1.31313131  1.35353535\n",
            "  1.39393939  1.43434343  1.47474747  1.51515152  1.55555556  1.5959596\n",
            "  1.63636364  1.67676768  1.71717172  1.75757576  1.7979798   1.83838384\n",
            "  1.87878788  1.91919192  1.95959596  2.        ]\n"
          ],
          "name": "stdout"
        }
      ]
    },
    {
      "cell_type": "code",
      "metadata": {
        "colab": {
          "base_uri": "https://localhost:8080/",
          "height": 391
        },
        "id": "80Cn9732d7LX",
        "outputId": "0a81ea19-8332-4514-8728-5fa8a19e9552"
      },
      "source": [
        "plt.plot( k(xvals) ) "
      ],
      "execution_count": 7,
      "outputs": [
        {
          "output_type": "execute_result",
          "data": {
            "text/plain": [
              "[<matplotlib.lines.Line2D at 0x7fd5ef860fd0>]"
            ]
          },
          "metadata": {
            "tags": []
          },
          "execution_count": 7
        },
        {
          "output_type": "display_data",
          "data": {
            "image/png": "[encoded data removed]",
            "text/plain": [
              "<Figure size 432x432 with 1 Axes>"
            ]
          },
          "metadata": {
            "tags": [],
            "needs_background": "light"
          }
        }
      ]
    },
    {
      "cell_type": "code",
      "metadata": {
        "id": "pueeB8lHd8Gv"
      },
      "source": [
        "def kde(x,data,h=0.1):\n",
        "  total = 0.0\n",
        "  for d in data:\n",
        "    total += (1/h)*k((x-d)/h)\n",
        "  return total"
      ],
      "execution_count": 36,
      "outputs": []
    },
    {
      "cell_type": "code",
      "metadata": {
        "id": "W0kDvb8QfjRU"
      },
      "source": [
        "data = [-0.5,-0.2,0,1.2]\n",
        "xvals = np.linspace(-2,2,num=1000)"
      ],
      "execution_count": 46,
      "outputs": []
    },
    {
      "cell_type": "code",
      "metadata": {
        "colab": {
          "base_uri": "https://localhost:8080/",
          "height": 391
        },
        "id": "yIeWOh8VfkyB",
        "outputId": "b520d55c-c472-4ec5-d524-e1978c18867b"
      },
      "source": [
        "px = kde( xvals, data, h=0.4 ); plt.plot(xvals,px)"
      ],
      "execution_count": 47,
      "outputs": [
        {
          "output_type": "execute_result",
          "data": {
            "text/plain": [
              "[<matplotlib.lines.Line2D at 0x7fd5ea116690>]"
            ]
          },
          "metadata": {
            "tags": []
          },
          "execution_count": 47
        },
        {
          "output_type": "display_data",
          "data": {
            "image/png": "[encoded data removed]",
            "text/plain": [
              "<Figure size 432x432 with 1 Axes>"
            ]
          },
          "metadata": {
            "tags": [],
            "needs_background": "light"
          }
        }
      ]
    },
    {
      "cell_type": "code",
      "metadata": {
        "id": "ETo8oqxFfuE0"
      },
      "source": [
        ""
      ],
      "execution_count": null,
      "outputs": []
    }
  ]
}