{
  "nbformat": 4,
  "nbformat_minor": 0,
  "metadata": {
    "colab": {
      "name": "measures_of_centrality_assignment_template.ipynb",
      "provenance": [],
      "collapsed_sections": [],
      "authorship_tag": "ABX9TyOhNzCIoWXAPj/ACnNg/iV/",
      "include_colab_link": true
    },
    "kernelspec": {
      "name": "python3",
      "display_name": "Python 3"
    }
  },
  "cells": [
    {
      "cell_type": "markdown",
      "metadata": {
        "id": "view-in-github",
        "colab_type": "text"
      },
      "source": [
        "<a href=\"https://colab.research.google.com/github/wingated/cs180_labs/blob/main/measures_of_centrality_assignment_template.ipynb\" target=\"_parent\"><img src=\"https://colab.research.google.com/assets/colab-badge.svg\" alt=\"Open In Colab\"/></a>"
      ]
    },
    {
      "cell_type": "markdown",
      "metadata": {
        "id": "r1OiwoMDX9Ys"
      },
      "source": [
        "Welcome to your first programming assignment! The purpose of these exercises is to get you used to using python and give you some exposure to a few statistical ideas.\n",
        "\n",
        "We'll start out with a few basics of the Colab environment and Python."
      ]
    },
    {
      "cell_type": "code",
      "metadata": {
        "id": "MKWsEkMGYQRI"
      },
      "source": [
        "# Clicking the play button on the left or pressing ctrl-enter or shift-enter will run a cell\n",
        "1 + 1"
      ],
      "execution_count": null,
      "outputs": []
    },
    {
      "cell_type": "code",
      "metadata": {
        "id": "jSx4BwLjYZrJ"
      },
      "source": [
        "def speak(message):\n",
        "    print(f\"hello, {message}\")\n",
        "\n",
        "message = \"\" # enter your message here\n",
        "speak(message)"
      ],
      "execution_count": null,
      "outputs": []
    },
    {
      "cell_type": "markdown",
      "metadata": {
        "id": "MZZ_XICZYm9N"
      },
      "source": [
        "Working in Colab notebooks is an easy way to iterate quickly which is key to the data science process. \n",
        "\n",
        "You can define functions and run statements while seeing the output immediately."
      ]
    },
    {
      "cell_type": "code",
      "metadata": {
        "id": "M_JHB0fkYxap"
      },
      "source": [
        "x = 1"
      ],
      "execution_count": null,
      "outputs": []
    },
    {
      "cell_type": "code",
      "metadata": {
        "id": "22Yq4pvFYypf"
      },
      "source": [
        "y = 3"
      ],
      "execution_count": null,
      "outputs": []
    },
    {
      "cell_type": "code",
      "metadata": {
        "id": "6-0WxwD4Y0eo"
      },
      "source": [
        "print(x + y)"
      ],
      "execution_count": null,
      "outputs": []
    },
    {
      "cell_type": "markdown",
      "metadata": {
        "id": "OuFvLHvVY3sI"
      },
      "source": [
        "Your variables are global if defined at the top level (not in a function) which means you need to be a little careful when running cells out of order."
      ]
    },
    {
      "cell_type": "code",
      "metadata": {
        "id": "8tm9eKBDZAa1"
      },
      "source": [
        "print(y + z)"
      ],
      "execution_count": null,
      "outputs": []
    },
    {
      "cell_type": "code",
      "metadata": {
        "id": "ofrrunsfZB5J"
      },
      "source": [
        "z = 3"
      ],
      "execution_count": null,
      "outputs": []
    },
    {
      "cell_type": "markdown",
      "metadata": {
        "id": "7l66QduNZElL"
      },
      "source": [
        "## Exercise 1\n",
        "\n",
        "Reading data. Without data, we would only be doing science, and it wouldn't be very good. \n",
        "\n",
        "We will learn many ways to read and manipulate data throughout this semester. "
      ]
    },
    {
      "cell_type": "markdown",
      "metadata": {
        "id": "vrzQ2E7AekiX"
      },
      "source": [
        "Normally, when working on your own computer, you would use the `read()` function in python to get data from the hard drive. \n",
        "\n",
        "For example, if you had a file of 1's and 0's named `binary.txt` you could read it as follows."
      ]
    },
    {
      "cell_type": "code",
      "metadata": {
        "id": "_xx9xh6QevMW"
      },
      "source": [
        "#This code won't work directly on Colab\n",
        "with open(\"binary.txt\", \"r\") as f:\n",
        "    data = f.read()"
      ],
      "execution_count": null,
      "outputs": []
    },
    {
      "cell_type": "markdown",
      "metadata": {
        "id": "gmCdu0dze3_4"
      },
      "source": [
        "the argument `r` stands for read. You could replace that with `w` if you wanted to write to the file instead. \n",
        "\n",
        "The variable `data` is read as a `str` type. "
      ]
    },
    {
      "cell_type": "markdown",
      "metadata": {
        "id": "xfpGsEjhfECD"
      },
      "source": [
        "When working on Colab, we can read text files from the internet and the write them to disk. We'll do that for you this time, but you will do this many times in the future."
      ]
    },
    {
      "cell_type": "code",
      "metadata": {
        "colab": {
          "base_uri": "https://localhost:8080/"
        },
        "id": "SepPyaYgcUQZ",
        "outputId": "746fba3a-bdb0-4604-dbd8-c91fa6943c3a"
      },
      "source": [
        "import requests\n",
        "data = requests.get(\"https://andrewnc.github.io/IntroDataLab1.txt\").text\n",
        "print(data)\n",
        "print(type(data))"
      ],
      "execution_count": null,
      "outputs": [
        {
          "output_type": "stream",
          "text": [
            "81 83 58 43 6 2 5 55 31 72 57 68 71 19 88 68 93 2 87 35 67 40 65 33 51 77 25 76 12 97 4 7 77 96 49 49 87 11 83 32 79 66 64 22 27 11 57 76 41 96 46 52 13 78 84 2 18 91 16 48 35 21 39 41 71 51 37 72 51 76 76 79 91 84 72 6 17 94 20 91 83 32 82 9 62 64 6 65 87 38 16 89 91 23 52 81 25 82 93 46 24 67 7 54 4 35 50 75 65 70 13 68 39 39 90 81 85 77 21 65 73 89 34 96 33 1 20 1 69 21 32 18 62 33 81 39 2 25 23 92 70 72 76 2 36 47 12 33 94 0 67 92 75 97 78 53 23 79 10 80 74 34 46 5 15 2 34 50 4 27 51 96 65 12 73 25 42 23 34 97 2 7 39 75 24 92 84 49 26 90 89 53 59 30 56 52 97 78 53 53 16 76 92 46 41 64 30 28 44 59 18 92 91 55 88 65 18 96 64 96 72 9 86 7 84 74 67 99 89 74 37 42 58 36 77 34 31 80 70 87 30 45 9 9 93 92 41 68 60 47 0 32 58 3 66 29 28 58 86 3 97 72 98 77 51 82 39 37 39 29 78 48 49 74 95 48 26 61 70 82 15 91 15 84 19 20 45 73 5 81 3 50 22 65 27 59 55 31 95 72 70 43 49 61 77 59 94 83 46 47 91 97 50 38 38 17 88 83 1 37 11 54 91 52 24 48 8 75 11 70 89 27 70 16 36 51 74 38 97 23 83 25 50 80 66 5 98 58 76 50 35 83 99 52 72 93 5 82 41 86 95 5 7 94 78 58 76 34 97 54 27 15 97 1 61 96 63 89 87 80 1 24 49 19 53 28 24 95 4 38 13 30 16 7 8 11 92 30 28 11 28 91 75 53 79 95 65 40 66 72 76 97 23 4 21 10 77 75 38 75 43 87 12 31 28 21 32 77 6 81 0 88 44 78 78 75 46 80 57 2 77 34 59 97 71 18 46 39 33 59 82 59 74 81 8 5 54 49 28 31 24 6 68 43 11 6 24 76 4 11 6 76 61 22 10 37 23 61 27 18 82 52 60 58 98 45 59 5 39 70 6 17 48 70 52 8 52 87 39 15\n",
            "\n",
            "<class 'str'>\n"
          ],
          "name": "stdout"
        }
      ]
    },
    {
      "cell_type": "markdown",
      "metadata": {
        "id": "L6QvFy6kf1v2"
      },
      "source": [
        "![our_data.png](data:image/png;base64,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)"
      ]
    },
    {
      "cell_type": "markdown",
      "metadata": {
        "id": "P3JKrgwNfWkx"
      },
      "source": [
        "Write a function that takes in a `str` which is a list of numbers (like `data`) and converts it into a `list` of `int` values."
      ]
    },
    {
      "cell_type": "code",
      "metadata": {
        "id": "I5QIQvJnfeZX"
      },
      "source": [
        ""
      ],
      "execution_count": null,
      "outputs": []
    },
    {
      "cell_type": "markdown",
      "metadata": {
        "id": "wSbx_ZS1f-g_"
      },
      "source": [
        "How many numbers are there in `data`?"
      ]
    },
    {
      "cell_type": "code",
      "metadata": {
        "id": "8KYVV2Cjf9y2"
      },
      "source": [
        ""
      ],
      "execution_count": null,
      "outputs": []
    },
    {
      "cell_type": "markdown",
      "metadata": {
        "id": "H32IPKUfZJVG"
      },
      "source": [
        "## Exercise 2\n",
        "\n",
        "Write a function that computes the Mean\n",
        "\n",
        "$\\frac{1}{n}\\sum_{i=1}^n x_i$\n"
      ]
    },
    {
      "cell_type": "code",
      "metadata": {
        "id": "8gB7PqU-ZZel"
      },
      "source": [
        ""
      ],
      "execution_count": null,
      "outputs": []
    },
    {
      "cell_type": "markdown",
      "metadata": {
        "id": "iYcdvv70g8Xj"
      },
      "source": [
        "Print the Mean value for the `data`"
      ]
    },
    {
      "cell_type": "code",
      "metadata": {
        "id": "0CbyS6nkg_Aa"
      },
      "source": [
        ""
      ],
      "execution_count": null,
      "outputs": []
    },
    {
      "cell_type": "markdown",
      "metadata": {
        "id": "cY5A6t0VZa7Y"
      },
      "source": [
        "## Exercise 3\n",
        "\n",
        "Write a function that computes the Median\n",
        "\n"
      ]
    },
    {
      "cell_type": "code",
      "metadata": {
        "id": "FRHbYSgHZnav"
      },
      "source": [
        ""
      ],
      "execution_count": null,
      "outputs": []
    },
    {
      "cell_type": "markdown",
      "metadata": {
        "id": "McpPrSj9hACL"
      },
      "source": [
        "Print the Median value for `data`"
      ]
    },
    {
      "cell_type": "code",
      "metadata": {
        "id": "rTeBcenVhDaZ"
      },
      "source": [
        ""
      ],
      "execution_count": null,
      "outputs": []
    },
    {
      "cell_type": "markdown",
      "metadata": {
        "id": "NbjfcOtIZgVq"
      },
      "source": [
        "## Exercise 4\n",
        "\n",
        "Write a function that computes the Mode"
      ]
    },
    {
      "cell_type": "code",
      "metadata": {
        "id": "U6YeMStHZoRS"
      },
      "source": [
        ""
      ],
      "execution_count": null,
      "outputs": []
    },
    {
      "cell_type": "markdown",
      "metadata": {
        "id": "su7AdOh9hEOV"
      },
      "source": [
        "Print the Mode for `data`"
      ]
    },
    {
      "cell_type": "code",
      "metadata": {
        "id": "JxPiYFbShFvU"
      },
      "source": [
        ""
      ],
      "execution_count": null,
      "outputs": []
    }
  ]
}