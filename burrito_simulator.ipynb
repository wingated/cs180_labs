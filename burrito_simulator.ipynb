{
  "nbformat": 4,
  "nbformat_minor": 0,
  "metadata": {
    "colab": {
      "name": "burrito_simulator.ipynb",
      "provenance": [],
      "authorship_tag": "ABX9TyNt8CIPGDgv4oaLbl8fdxaw",
      "include_colab_link": true
    },
    "kernelspec": {
      "name": "python3",
      "display_name": "Python 3"
    }
  },
  "cells": [
    {
      "cell_type": "markdown",
      "metadata": {
        "id": "view-in-github",
        "colab_type": "text"
      },
      "source": [
        "<a href=\"https://colab.research.google.com/github/wingated/cs180_labs/blob/main/burrito_simulator.ipynb\" target=\"_parent\"><img src=\"https://colab.research.google.com/assets/colab-badge.svg\" alt=\"Open In Colab\"/></a>"
      ]
    },
    {
      "cell_type": "code",
      "metadata": {
        "id": "JzpmpaSaBg7K"
      },
      "source": [
        "%matplotlib inline"
      ],
      "execution_count": 1,
      "outputs": []
    },
    {
      "cell_type": "code",
      "metadata": {
        "id": "sCTT_fR_BiLN"
      },
      "source": [
        "import matplotlib.pyplot as plt\n",
        "import numpy as np\n",
        "import seaborn as sns\n",
        "import pandas as pd\n",
        "from tqdm import tqdm\n",
        "plt.rcParams['figure.figsize'] = [12, 10]\n"
      ],
      "execution_count": 61,
      "outputs": []
    },
    {
      "cell_type": "code",
      "metadata": {
        "id": "BfN7pHquBp8n"
      },
      "source": [
        "def sample_burrito_type():\n",
        "  btypes = ['beef','chicken','barbacoa','veggie','asada']\n",
        "  bprobs = [ 0.2,  0.15,     0.3,       0.1,     0.25 ]\n",
        "  return np.random.choice( btypes, p=bprobs )\n",
        "\n",
        "def sample_burrito_calories( btype ):\n",
        "  if btype=='beef':\n",
        "    return 100*np.random.randn()+550\n",
        "  if btype=='chicken':\n",
        "    return 100*np.random.randn()+450\n",
        "  if btype=='barbacoa':\n",
        "    return 100*np.random.randn()+520\n",
        "  if btype=='veggie':\n",
        "    return 100*np.random.randn()+400\n",
        "  if btype=='asada':\n",
        "    return 100*np.random.randn()+500\n",
        "\n",
        "def sample_drink_type():\n",
        "  dtypes = ['coke','sprite','fanta','ibc','pepsi']\n",
        "  dprobs = [ 0.1,  0.3,     0.2,    0.3,   0.1 ]\n",
        "  return np.random.choice( dtypes, p=dprobs )\n",
        "\n",
        "def sample_drink_size():\n",
        "  stypes = ['small','medium','large']\n",
        "  sprobs = [ 0.1,   0.8,     0.1 ]\n",
        "  return np.random.choice( stypes, p=sprobs )\n",
        "\n",
        "def sample_drink_calories( dtype, dsize ):\n",
        "  \n",
        "  if dtype=='coke':\n",
        "    cals_per_oz = 50\n",
        "  if dtype=='sprite':\n",
        "    cals_per_oz = 60\n",
        "  if dtype=='fanta':\n",
        "    cals_per_oz = 65\n",
        "  if dtype=='ibc':\n",
        "    cals_per_oz = 45\n",
        "  if dtype=='pepsi':\n",
        "    cals_per_oz = 50\n",
        "\n",
        "  if dsize=='small':\n",
        "    return 10*np.random.randn() + 8*cals_per_oz\n",
        "  if dsize=='medium':\n",
        "    return 20*np.random.randn() + 16*cals_per_oz\n",
        "  if dsize=='large':\n",
        "    return 40*np.random.randn() + 32*cals_per_oz\n",
        "\n",
        "def sample_meal():\n",
        "  my_burrito = sample_burrito_type()\n",
        "  my_drink = sample_drink_type()\n",
        "  my_drink_size = sample_drink_size()\n",
        "  #print( f'Your meal is a {my_burrito} burrito with a {my_drink_size} {my_drink}.' )\n",
        "  burrito_calories = sample_burrito_calories( my_burrito )\n",
        "  drink_calories = sample_drink_calories( my_drink, my_drink_size )\n",
        "  return { \"burrito\":my_burrito, \"drink\":my_drink, \"size\":my_drink_size, \"calories\":burrito_calories + drink_calories }\n",
        "\n"
      ],
      "execution_count": 37,
      "outputs": []
    },
    {
      "cell_type": "code",
      "metadata": {
        "colab": {
          "base_uri": "https://localhost:8080/"
        },
        "id": "3yivjNpXEp2l",
        "outputId": "235a0aa3-657e-40a7-e775-8dd78aa437b4"
      },
      "source": [
        "sample_meal()"
      ],
      "execution_count": 38,
      "outputs": [
        {
          "output_type": "execute_result",
          "data": {
            "text/plain": [
              "{'burrito': 'asada',\n",
              " 'calories': 913.4163341712767,\n",
              " 'drink': 'sprite',\n",
              " 'size': 'small'}"
            ]
          },
          "metadata": {
            "tags": []
          },
          "execution_count": 38
        }
      ]
    },
    {
      "cell_type": "code",
      "metadata": {
        "colab": {
          "base_uri": "https://localhost:8080/"
        },
        "id": "_9EQVdYIE7Gk",
        "outputId": "7dba939e-4869-4247-a78d-c180efe94cd5"
      },
      "source": [
        "df = pd.DataFrame()\n",
        "for s in tqdm( range(1000) ):\n",
        "  meal = sample_meal()\n",
        "  df = df.append(meal,ignore_index=True)"
      ],
      "execution_count": 51,
      "outputs": [
        {
          "output_type": "stream",
          "text": [
            "100%|██████████| 1000/1000 [00:04<00:00, 214.11it/s]\n"
          ],
          "name": "stderr"
        }
      ]
    },
    {
      "cell_type": "code",
      "metadata": {
        "colab": {
          "base_uri": "https://localhost:8080/",
          "height": 407
        },
        "id": "1rfOvNSSFVYS",
        "outputId": "c407d583-3f92-4d84-f320-5639904f7924"
      },
      "source": [
        "df"
      ],
      "execution_count": 52,
      "outputs": [
        {
          "output_type": "execute_result",
          "data": {
            "text/html": [
              "<div>\n",
              "<style scoped>\n",
              "    .dataframe tbody tr th:only-of-type {\n",
              "        vertical-align: middle;\n",
              "    }\n",
              "\n",
              "    .dataframe tbody tr th {\n",
              "        vertical-align: top;\n",
              "    }\n",
              "\n",
              "    .dataframe thead th {\n",
              "        text-align: right;\n",
              "    }\n",
              "</style>\n",
              "<table border=\"1\" class=\"dataframe\">\n",
              "  <thead>\n",
              "    <tr style=\"text-align: right;\">\n",
              "      <th></th>\n",
              "      <th>burrito</th>\n",
              "      <th>calories</th>\n",
              "      <th>drink</th>\n",
              "      <th>size</th>\n",
              "    </tr>\n",
              "  </thead>\n",
              "  <tbody>\n",
              "    <tr>\n",
              "      <th>0</th>\n",
              "      <td>beef</td>\n",
              "      <td>1419.144952</td>\n",
              "      <td>coke</td>\n",
              "      <td>medium</td>\n",
              "    </tr>\n",
              "    <tr>\n",
              "      <th>1</th>\n",
              "      <td>beef</td>\n",
              "      <td>802.459568</td>\n",
              "      <td>ibc</td>\n",
              "      <td>small</td>\n",
              "    </tr>\n",
              "    <tr>\n",
              "      <th>2</th>\n",
              "      <td>veggie</td>\n",
              "      <td>1427.549408</td>\n",
              "      <td>sprite</td>\n",
              "      <td>medium</td>\n",
              "    </tr>\n",
              "    <tr>\n",
              "      <th>3</th>\n",
              "      <td>chicken</td>\n",
              "      <td>851.223452</td>\n",
              "      <td>ibc</td>\n",
              "      <td>small</td>\n",
              "    </tr>\n",
              "    <tr>\n",
              "      <th>4</th>\n",
              "      <td>asada</td>\n",
              "      <td>1378.128750</td>\n",
              "      <td>pepsi</td>\n",
              "      <td>medium</td>\n",
              "    </tr>\n",
              "    <tr>\n",
              "      <th>...</th>\n",
              "      <td>...</td>\n",
              "      <td>...</td>\n",
              "      <td>...</td>\n",
              "      <td>...</td>\n",
              "    </tr>\n",
              "    <tr>\n",
              "      <th>995</th>\n",
              "      <td>chicken</td>\n",
              "      <td>1343.343829</td>\n",
              "      <td>sprite</td>\n",
              "      <td>medium</td>\n",
              "    </tr>\n",
              "    <tr>\n",
              "      <th>996</th>\n",
              "      <td>barbacoa</td>\n",
              "      <td>1270.772958</td>\n",
              "      <td>ibc</td>\n",
              "      <td>medium</td>\n",
              "    </tr>\n",
              "    <tr>\n",
              "      <th>997</th>\n",
              "      <td>chicken</td>\n",
              "      <td>1172.342197</td>\n",
              "      <td>coke</td>\n",
              "      <td>medium</td>\n",
              "    </tr>\n",
              "    <tr>\n",
              "      <th>998</th>\n",
              "      <td>barbacoa</td>\n",
              "      <td>1606.065641</td>\n",
              "      <td>sprite</td>\n",
              "      <td>medium</td>\n",
              "    </tr>\n",
              "    <tr>\n",
              "      <th>999</th>\n",
              "      <td>beef</td>\n",
              "      <td>1357.140774</td>\n",
              "      <td>sprite</td>\n",
              "      <td>medium</td>\n",
              "    </tr>\n",
              "  </tbody>\n",
              "</table>\n",
              "<p>1000 rows × 4 columns</p>\n",
              "</div>"
            ],
            "text/plain": [
              "      burrito     calories   drink    size\n",
              "0        beef  1419.144952    coke  medium\n",
              "1        beef   802.459568     ibc   small\n",
              "2      veggie  1427.549408  sprite  medium\n",
              "3     chicken   851.223452     ibc   small\n",
              "4       asada  1378.128750   pepsi  medium\n",
              "..        ...          ...     ...     ...\n",
              "995   chicken  1343.343829  sprite  medium\n",
              "996  barbacoa  1270.772958     ibc  medium\n",
              "997   chicken  1172.342197    coke  medium\n",
              "998  barbacoa  1606.065641  sprite  medium\n",
              "999      beef  1357.140774  sprite  medium\n",
              "\n",
              "[1000 rows x 4 columns]"
            ]
          },
          "metadata": {
            "tags": []
          },
          "execution_count": 52
        }
      ]
    },
    {
      "cell_type": "code",
      "metadata": {
        "colab": {
          "base_uri": "https://localhost:8080/",
          "height": 598
        },
        "id": "JUE1WXVrFXd3",
        "outputId": "0a781d62-8b75-4288-c221-b4b44f4b1e46"
      },
      "source": [
        "sns.displot( data=df, x='calories', hue='burrito', kind='kde', height=8, aspect=10/8)\n",
        "#sns.displot( data=df, x='calories', hue='drink', kind='kde')\n",
        "#sns.displot( data=df, x='calories', hue='size', kind='kde')"
      ],
      "execution_count": 71,
      "outputs": [
        {
          "output_type": "execute_result",
          "data": {
            "text/plain": [
              "<seaborn.axisgrid.FacetGrid at 0x7f95b27fb290>"
            ]
          },
          "metadata": {
            "tags": []
          },
          "execution_count": 71
        },
        {
          "output_type": "display_data",
          "data": {
            "image/png": "[encoded data removed]",
            "text/plain": [
              "<Figure size 811.35x576 with 1 Axes>"
            ]
          },
          "metadata": {
            "tags": []
          }
        }
      ]
    },
    {
      "cell_type": "code",
      "metadata": {
        "colab": {
          "base_uri": "https://localhost:8080/",
          "height": 407
        },
        "id": "qzvNly6wHE7I",
        "outputId": "d80199ea-2b18-461b-8bfb-8208e55f514f"
      },
      "source": [
        ""
      ],
      "execution_count": 63,
      "outputs": [
        {
          "output_type": "execute_result",
          "data": {
            "text/html": [
              "<div>\n",
              "<style scoped>\n",
              "    .dataframe tbody tr th:only-of-type {\n",
              "        vertical-align: middle;\n",
              "    }\n",
              "\n",
              "    .dataframe tbody tr th {\n",
              "        vertical-align: top;\n",
              "    }\n",
              "\n",
              "    .dataframe thead th {\n",
              "        text-align: right;\n",
              "    }\n",
              "</style>\n",
              "<table border=\"1\" class=\"dataframe\">\n",
              "  <thead>\n",
              "    <tr style=\"text-align: right;\">\n",
              "      <th></th>\n",
              "      <th>burrito</th>\n",
              "      <th>calories</th>\n",
              "      <th>drink</th>\n",
              "      <th>size</th>\n",
              "    </tr>\n",
              "  </thead>\n",
              "  <tbody>\n",
              "    <tr>\n",
              "      <th>6</th>\n",
              "      <td>barbacoa</td>\n",
              "      <td>2550.679862</td>\n",
              "      <td>fanta</td>\n",
              "      <td>large</td>\n",
              "    </tr>\n",
              "    <tr>\n",
              "      <th>11</th>\n",
              "      <td>beef</td>\n",
              "      <td>2752.458183</td>\n",
              "      <td>fanta</td>\n",
              "      <td>large</td>\n",
              "    </tr>\n",
              "    <tr>\n",
              "      <th>17</th>\n",
              "      <td>chicken</td>\n",
              "      <td>1424.403855</td>\n",
              "      <td>fanta</td>\n",
              "      <td>medium</td>\n",
              "    </tr>\n",
              "    <tr>\n",
              "      <th>21</th>\n",
              "      <td>barbacoa</td>\n",
              "      <td>1409.393882</td>\n",
              "      <td>fanta</td>\n",
              "      <td>medium</td>\n",
              "    </tr>\n",
              "    <tr>\n",
              "      <th>23</th>\n",
              "      <td>chicken</td>\n",
              "      <td>1407.511986</td>\n",
              "      <td>fanta</td>\n",
              "      <td>medium</td>\n",
              "    </tr>\n",
              "    <tr>\n",
              "      <th>...</th>\n",
              "      <td>...</td>\n",
              "      <td>...</td>\n",
              "      <td>...</td>\n",
              "      <td>...</td>\n",
              "    </tr>\n",
              "    <tr>\n",
              "      <th>969</th>\n",
              "      <td>barbacoa</td>\n",
              "      <td>1461.878010</td>\n",
              "      <td>fanta</td>\n",
              "      <td>medium</td>\n",
              "    </tr>\n",
              "    <tr>\n",
              "      <th>979</th>\n",
              "      <td>barbacoa</td>\n",
              "      <td>1470.139051</td>\n",
              "      <td>fanta</td>\n",
              "      <td>medium</td>\n",
              "    </tr>\n",
              "    <tr>\n",
              "      <th>980</th>\n",
              "      <td>chicken</td>\n",
              "      <td>1416.592585</td>\n",
              "      <td>fanta</td>\n",
              "      <td>medium</td>\n",
              "    </tr>\n",
              "    <tr>\n",
              "      <th>985</th>\n",
              "      <td>chicken</td>\n",
              "      <td>1548.493113</td>\n",
              "      <td>fanta</td>\n",
              "      <td>medium</td>\n",
              "    </tr>\n",
              "    <tr>\n",
              "      <th>987</th>\n",
              "      <td>veggie</td>\n",
              "      <td>1442.202409</td>\n",
              "      <td>fanta</td>\n",
              "      <td>medium</td>\n",
              "    </tr>\n",
              "  </tbody>\n",
              "</table>\n",
              "<p>173 rows × 4 columns</p>\n",
              "</div>"
            ],
            "text/plain": [
              "      burrito     calories  drink    size\n",
              "6    barbacoa  2550.679862  fanta   large\n",
              "11       beef  2752.458183  fanta   large\n",
              "17    chicken  1424.403855  fanta  medium\n",
              "21   barbacoa  1409.393882  fanta  medium\n",
              "23    chicken  1407.511986  fanta  medium\n",
              "..        ...          ...    ...     ...\n",
              "969  barbacoa  1461.878010  fanta  medium\n",
              "979  barbacoa  1470.139051  fanta  medium\n",
              "980   chicken  1416.592585  fanta  medium\n",
              "985   chicken  1548.493113  fanta  medium\n",
              "987    veggie  1442.202409  fanta  medium\n",
              "\n",
              "[173 rows x 4 columns]"
            ]
          },
          "metadata": {
            "tags": []
          },
          "execution_count": 63
        }
      ]
    },
    {
      "cell_type": "code",
      "metadata": {
        "id": "OU3rGB-5JE0W"
      },
      "source": [
        ""
      ],
      "execution_count": null,
      "outputs": []
    }
  ]
}