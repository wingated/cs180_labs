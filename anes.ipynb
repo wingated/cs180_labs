{
  "nbformat": 4,
  "nbformat_minor": 0,
  "metadata": {
    "colab": {
      "name": "anes.ipynb",
      "provenance": [],
      "authorship_tag": "ABX9TyMjfAJinKuZfltvGzyky7ER",
      "include_colab_link": true
    },
    "kernelspec": {
      "name": "python3",
      "display_name": "Python 3"
    }
  },
  "cells": [
    {
      "cell_type": "markdown",
      "metadata": {
        "id": "view-in-github",
        "colab_type": "text"
      },
      "source": [
        "<a href=\"https://colab.research.google.com/github/wingated/cs180_labs/blob/main/anes.ipynb\" target=\"_parent\"><img src=\"https://colab.research.google.com/assets/colab-badge.svg\" alt=\"Open In Colab\"/></a>"
      ]
    },
    {
      "cell_type": "code",
      "metadata": {
        "id": "gn7i83HMsBr4"
      },
      "source": [
        "!wget http://liftothers.org/byu/anes2016.csv"
      ],
      "execution_count": null,
      "outputs": []
    },
    {
      "cell_type": "code",
      "metadata": {
        "id": "Qrx-xK69sTvZ"
      },
      "source": [
        "%matplotlib inline"
      ],
      "execution_count": 2,
      "outputs": []
    },
    {
      "cell_type": "code",
      "metadata": {
        "id": "msMHsI_dsV4a"
      },
      "source": [
        "import matplotlib.pyplot as plt\n",
        "import pandas as pd\n",
        "import numpy as np"
      ],
      "execution_count": 3,
      "outputs": []
    },
    {
      "cell_type": "code",
      "metadata": {
        "id": "YfIaOnQNsdSx"
      },
      "source": [
        "df = pd.read_csv( './anes2016.csv', sep='|')"
      ],
      "execution_count": null,
      "outputs": []
    },
    {
      "cell_type": "code",
      "metadata": {
        "id": "_-nKfkSjvynt"
      },
      "source": [
        "fields = {\n",
        "    'V161342':  'gender', # 1:'male',2:'female'\n",
        "    'V161310x': 'race',  # 1:'white',2:'black',3:'asian',5:'hispanic'\n",
        "    'V161267':  'age',  # age in years\n",
        "    'V161270':  'education', # 1-9 high school; 10-12 some college; 13 bachelors; 14-16 advanced degree\n",
        "    'V161244':  'church_goer', # 1:'yes',2:'no'\n",
        "    'V162125x': 'patriotism', # how does seeing the flag make you feel? 1:\"extremely good\", 2:\"moderately good\", 3:\"a little good\", 4:\"neither good nor bad\", 5:\"a little bad\", 6:\"moderately bad\", 7:\"extremely bad\"\n",
        "    'V162174':  'discuss_politics', # 1:'yes',2:'no'\n",
        "    'V162256':  'political_interest', # how interested in politics? 1:\"very interested\", 2:\"somewhat interested\", 3:\"not very interested\", 4:\"not at all interested\"\n",
        "    'V161126':  'ideology', # 1:\"extremely liberal\", 2:\"liberal\", 3:\"slightly liberal\", 4:\"moderate\", 5:\"slightly conservative\", 6:\"conservative\", 7:\"extremely conservative\"\n",
        "    'V161155':  'pid3', # 1:'Democrat',2:'Republican',3:'Independent'\n",
        "    'V161158x': 'pid7', # 1:\"strong democrat\", 2:\"not very strong democrat\", 3:\"independent, but closer to the Democratic party\", 4:\"independent\", 5:\"independent, but closer to the Republican party\", 6:\"not very strong Republican\", 7:\"strong Republican\"\n",
        "    'V162031x': 'voted_2016', # did you vote in 2016? 0:'no',1:'yes'\n",
        "    'V162062x': 'votechoice_2016', # 1:\"Hillary Clinton\", 2:\"Donald Trump\"\n",
        "    'V162255':  'obama_muslim', # 1:\"yes\",2:\"no\"\n",
        "    'V161221':  'climate_change', # is global warming happening or not? 1:yes, 2:no\n",
        "    'V161222':  'cc_caused_by_man', # assuming it's happening, is it caused by humans? 1:mostly human, 2: mostly natural, 3:equally by people and nature\n",
        "    'V161227':  'same_sex_wedding', # Do you think business owners who provide wedding-related services should be allowed to refuse services to same-sex couples if same-sex marriage violates their religious beliefs, or do you think business owners should be required to provide services regardless of a couple’s sexual orientation? 1:should be allowed to refuse, 2:should be required to provide services\n",
        "}\n",
        "\n",
        "def simplify_anes( df ):\n",
        "    new_df = pd.DataFrame()\n",
        "    for col in fields.keys():\n",
        "      new_df[fields[col]] = df[col]\n",
        "    return new_df\n"
      ],
      "execution_count": 8,
      "outputs": []
    },
    {
      "cell_type": "code",
      "metadata": {
        "id": "2O_e_m3dsg4x"
      },
      "source": [
        "df = simplify_anes(df)"
      ],
      "execution_count": 9,
      "outputs": []
    },
    {
      "cell_type": "code",
      "metadata": {
        "id": "DlC8B_9swWkM"
      },
      "source": [
        ""
      ],
      "execution_count": null,
      "outputs": []
    }
  ]
}